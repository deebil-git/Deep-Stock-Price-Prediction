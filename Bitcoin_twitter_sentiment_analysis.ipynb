{
  "nbformat": 4,
  "nbformat_minor": 0,
  "metadata": {
    "colab": {
      "provenance": [],
      "collapsed_sections": []
    },
    "kernelspec": {
      "name": "python3",
      "display_name": "Python 3"
    },
    "language_info": {
      "name": "python"
    }
  },
  "cells": [
    {
      "cell_type": "markdown",
      "source": [
        "**Twint is an advanced Twitter scraping tool written in Python that allows for scraping Tweets from Twitter profiles without using Twitter's API. also I use aiohttp and asyncio for Asynchronous Web Scraping. in case of asynchronous web scraping, your scraper runs in parallel processes to collect data from websites and does not wait for one code to finish its execution**"
      ],
      "metadata": {
        "id": "NmiBLn_xQ27r"
      }
    },
    {
      "cell_type": "code",
      "source": [
        "!git clone https://github.com/twintproject/twint.git\n",
        "!cd twint\n",
        "!pwd\n",
        "import os\n",
        "os.chdir('twint')\n",
        "!pwd\n",
        "!pip install . -r requirements.txt\n",
        "\n",
        "!pip install nest_asyncio\n",
        "!pip install aiohttp==3.7.0\n",
        "\n",
        "!pip install yfinance"
      ],
      "metadata": {
        "id": "vZ_y0X9NNgaS"
      },
      "execution_count": null,
      "outputs": []
    },
    {
      "cell_type": "code",
      "source": [
        "import yfinance\n",
        "import numpy as np\n",
        "import pandas as pd\n",
        "from matplotlib import pyplot as plt\n",
        "pd.options.display.max_columns = 100\n",
        "plt.style.use('fivethirtyeight')\n",
        "\n",
        "import twint"
      ],
      "metadata": {
        "id": "0r0NsXcNO7wp"
      },
      "execution_count": 47,
      "outputs": []
    },
    {
      "cell_type": "markdown",
      "source": [
        "The only reason why we use nest_asyncio is because this tutorial is written in a jupyter notebook, however if you wanted to write the same web scraper code in a python file, then you would’nt need to install or run the following code block:"
      ],
      "metadata": {
        "id": "Aa--bUo1Ruf0"
      }
    },
    {
      "cell_type": "code",
      "source": [
        "import nest_asyncio\n",
        "nest_asyncio.apply()"
      ],
      "metadata": {
        "id": "jkuaRsN4Q_WR"
      },
      "execution_count": 2,
      "outputs": []
    },
    {
      "cell_type": "markdown",
      "source": [
        "**twint has a bug. I solved it by uncomment line 92 in the url.py file in twint folder**"
      ],
      "metadata": {
        "id": "rmXBL16oUn07"
      }
    },
    {
      "cell_type": "markdown",
      "source": [
        "### **Data extraction Twitter**"
      ],
      "metadata": {
        "id": "QXKXEJaIYQy7"
      }
    },
    {
      "cell_type": "code",
      "source": [
        "from google.colab import drive  # I save tweets in my drive\n",
        "drive.mount('/content/drive')\n",
        "os.chdir(\"/content/drive/MyDrive/\")"
      ],
      "metadata": {
        "id": "GoQCoPWhYbTA"
      },
      "execution_count": 5,
      "outputs": []
    },
    {
      "cell_type": "code",
      "source": [
        "from urllib3.exceptions import ProtocolError\n",
        "from urllib3.exceptions import IncompleteRead"
      ],
      "metadata": {
        "id": "di2ytdrfZXNU"
      },
      "execution_count": 3,
      "outputs": []
    },
    {
      "cell_type": "code",
      "source": [
        "def get_tweets():\n",
        "    c = twint.Config()\n",
        "\n",
        "    c.Search = \"bitcoin\"\n",
        "    c.Count = True\n",
        "    c.Pandas = True\n",
        "\n",
        "    c.Since = '2022-03-10 10:00:00'\n",
        "    #c.Until = '2022-05-06 10:00:00'\n",
        "\n",
        "    c.Popular_tweets = True\n",
        "    c.Hide_output = True\n",
        "    c.Store_json = True\n",
        "    c.Min_likes = 200\n",
        "    #c.Limit = 3000\n",
        "    c.Output = 'bitcoin-2022.json'\n",
        "    c.Resume = \"bitcoin-2022.raw\"\n",
        "\n",
        "    twint.run.Search(c)\n",
        "\n",
        "    while True:\n",
        "        try:\n",
        "            twint.run.Search(c)\n",
        "\n",
        "        except ProtocolError as error:\n",
        "              print (str(error))\n",
        "              continue\n",
        "\n",
        "        except IncompleteRead as IR:\n",
        "                print (str(IR))\n",
        "                continue\n"
      ],
      "metadata": {
        "id": "2qWun8WPVOwT"
      },
      "execution_count": 6,
      "outputs": []
    },
    {
      "cell_type": "code",
      "source": [
        "get_tweets()"
      ],
      "metadata": {
        "id": "xnaUbJ0IV_lR"
      },
      "execution_count": null,
      "outputs": []
    },
    {
      "cell_type": "markdown",
      "source": [
        "##Data cleaning Twitter"
      ],
      "metadata": {
        "id": "JwF1vR2saYQ7"
      }
    },
    {
      "cell_type": "code",
      "source": [
        "import pandas as pd"
      ],
      "metadata": {
        "id": "DpnzOgh7Z1nq"
      },
      "execution_count": 8,
      "outputs": []
    },
    {
      "cell_type": "code",
      "source": [
        "data = pd.read_json('/content/drive/MyDrive/bitcoin-2022.json', lines=True)\n",
        "data.to_csv('bitcoin-2022.csv', encoding='utf-8', index=False)"
      ],
      "metadata": {
        "id": "6kZlsb95akwJ"
      },
      "execution_count": 5,
      "outputs": []
    },
    {
      "cell_type": "code",
      "source": [
        "df = pd.read_csv('/content/bitcoin-2022.csv', low_memory = False, skiprows=0, lineterminator='\\n')\n",
        "df = df[['id','username', 'name','urls','created_at','replies_count','likes_count','retweets_count']]\n",
        "df = df.rename(columns={'id':'id','username':'user', 'name':'fullname','urls':'url','created_at':'timestamp','replies_count':'replies','likes_count':'likes','retweets_count':'retweets'})"
      ],
      "metadata": {
        "id": "S6qM5TW-a67i"
      },
      "execution_count": 20,
      "outputs": []
    },
    {
      "cell_type": "code",
      "source": [
        "def dt_func(z):\n",
        "    t = pd.Timestamp(z)\n",
        "    return pd.Timestamp.date(t)\n",
        "df.timestamp = df.timestamp.apply(dt_func)"
      ],
      "metadata": {
        "id": "bqIIJac4bKIH"
      },
      "execution_count": 21,
      "outputs": []
    },
    {
      "cell_type": "code",
      "source": [
        "df.head(3)"
      ],
      "metadata": {
        "colab": {
          "base_uri": "https://localhost:8080/",
          "height": 143
        },
        "id": "KJIDAPo-bOyr",
        "outputId": "75b1660a-e271-4f7d-b140-f5fab1bc6ead"
      },
      "execution_count": 22,
      "outputs": [
        {
          "output_type": "execute_result",
          "data": {
            "text/plain": [
              "                    id             user  \\\n",
              "0  1465983803399163904  kanemitsumidori   \n",
              "1  1465982973749071876  coinerstakingls   \n",
              "2  1465981624458297351  thomascabaret84   \n",
              "\n",
              "                                fullname url   timestamp  replies  likes  \\\n",
              "0  金光碧🐈🍋⚡️ / Kanemitsu Midori / bitFlyer  []  2021-12-01       12    281   \n",
              "1                  Crypto Bros Taking Ls  []  2021-12-01       41   4565   \n",
              "2                         Thomas Cabaret  []  2021-12-01       44     90   \n",
              "\n",
              "   retweets  \n",
              "0        29  \n",
              "1        67  \n",
              "2         1  "
            ],
            "text/html": [
              "\n",
              "  <div id=\"df-fbdb7ebd-0dd6-46a1-abd0-948ba711ea96\">\n",
              "    <div class=\"colab-df-container\">\n",
              "      <div>\n",
              "<style scoped>\n",
              "    .dataframe tbody tr th:only-of-type {\n",
              "        vertical-align: middle;\n",
              "    }\n",
              "\n",
              "    .dataframe tbody tr th {\n",
              "        vertical-align: top;\n",
              "    }\n",
              "\n",
              "    .dataframe thead th {\n",
              "        text-align: right;\n",
              "    }\n",
              "</style>\n",
              "<table border=\"1\" class=\"dataframe\">\n",
              "  <thead>\n",
              "    <tr style=\"text-align: right;\">\n",
              "      <th></th>\n",
              "      <th>id</th>\n",
              "      <th>user</th>\n",
              "      <th>fullname</th>\n",
              "      <th>url</th>\n",
              "      <th>timestamp</th>\n",
              "      <th>replies</th>\n",
              "      <th>likes</th>\n",
              "      <th>retweets</th>\n",
              "    </tr>\n",
              "  </thead>\n",
              "  <tbody>\n",
              "    <tr>\n",
              "      <th>0</th>\n",
              "      <td>1465983803399163904</td>\n",
              "      <td>kanemitsumidori</td>\n",
              "      <td>金光碧🐈🍋⚡️ / Kanemitsu Midori / bitFlyer</td>\n",
              "      <td>[]</td>\n",
              "      <td>2021-12-01</td>\n",
              "      <td>12</td>\n",
              "      <td>281</td>\n",
              "      <td>29</td>\n",
              "    </tr>\n",
              "    <tr>\n",
              "      <th>1</th>\n",
              "      <td>1465982973749071876</td>\n",
              "      <td>coinerstakingls</td>\n",
              "      <td>Crypto Bros Taking Ls</td>\n",
              "      <td>[]</td>\n",
              "      <td>2021-12-01</td>\n",
              "      <td>41</td>\n",
              "      <td>4565</td>\n",
              "      <td>67</td>\n",
              "    </tr>\n",
              "    <tr>\n",
              "      <th>2</th>\n",
              "      <td>1465981624458297351</td>\n",
              "      <td>thomascabaret84</td>\n",
              "      <td>Thomas Cabaret</td>\n",
              "      <td>[]</td>\n",
              "      <td>2021-12-01</td>\n",
              "      <td>44</td>\n",
              "      <td>90</td>\n",
              "      <td>1</td>\n",
              "    </tr>\n",
              "  </tbody>\n",
              "</table>\n",
              "</div>\n",
              "      <button class=\"colab-df-convert\" onclick=\"convertToInteractive('df-fbdb7ebd-0dd6-46a1-abd0-948ba711ea96')\"\n",
              "              title=\"Convert this dataframe to an interactive table.\"\n",
              "              style=\"display:none;\">\n",
              "        \n",
              "  <svg xmlns=\"http://www.w3.org/2000/svg\" height=\"24px\"viewBox=\"0 0 24 24\"\n",
              "       width=\"24px\">\n",
              "    <path d=\"M0 0h24v24H0V0z\" fill=\"none\"/>\n",
              "    <path d=\"M18.56 5.44l.94 2.06.94-2.06 2.06-.94-2.06-.94-.94-2.06-.94 2.06-2.06.94zm-11 1L8.5 8.5l.94-2.06 2.06-.94-2.06-.94L8.5 2.5l-.94 2.06-2.06.94zm10 10l.94 2.06.94-2.06 2.06-.94-2.06-.94-.94-2.06-.94 2.06-2.06.94z\"/><path d=\"M17.41 7.96l-1.37-1.37c-.4-.4-.92-.59-1.43-.59-.52 0-1.04.2-1.43.59L10.3 9.45l-7.72 7.72c-.78.78-.78 2.05 0 2.83L4 21.41c.39.39.9.59 1.41.59.51 0 1.02-.2 1.41-.59l7.78-7.78 2.81-2.81c.8-.78.8-2.07 0-2.86zM5.41 20L4 18.59l7.72-7.72 1.47 1.35L5.41 20z\"/>\n",
              "  </svg>\n",
              "      </button>\n",
              "      \n",
              "  <style>\n",
              "    .colab-df-container {\n",
              "      display:flex;\n",
              "      flex-wrap:wrap;\n",
              "      gap: 12px;\n",
              "    }\n",
              "\n",
              "    .colab-df-convert {\n",
              "      background-color: #E8F0FE;\n",
              "      border: none;\n",
              "      border-radius: 50%;\n",
              "      cursor: pointer;\n",
              "      display: none;\n",
              "      fill: #1967D2;\n",
              "      height: 32px;\n",
              "      padding: 0 0 0 0;\n",
              "      width: 32px;\n",
              "    }\n",
              "\n",
              "    .colab-df-convert:hover {\n",
              "      background-color: #E2EBFA;\n",
              "      box-shadow: 0px 1px 2px rgba(60, 64, 67, 0.3), 0px 1px 3px 1px rgba(60, 64, 67, 0.15);\n",
              "      fill: #174EA6;\n",
              "    }\n",
              "\n",
              "    [theme=dark] .colab-df-convert {\n",
              "      background-color: #3B4455;\n",
              "      fill: #D2E3FC;\n",
              "    }\n",
              "\n",
              "    [theme=dark] .colab-df-convert:hover {\n",
              "      background-color: #434B5C;\n",
              "      box-shadow: 0px 1px 3px 1px rgba(0, 0, 0, 0.15);\n",
              "      filter: drop-shadow(0px 1px 2px rgba(0, 0, 0, 0.3));\n",
              "      fill: #FFFFFF;\n",
              "    }\n",
              "  </style>\n",
              "\n",
              "      <script>\n",
              "        const buttonEl =\n",
              "          document.querySelector('#df-fbdb7ebd-0dd6-46a1-abd0-948ba711ea96 button.colab-df-convert');\n",
              "        buttonEl.style.display =\n",
              "          google.colab.kernel.accessAllowed ? 'block' : 'none';\n",
              "\n",
              "        async function convertToInteractive(key) {\n",
              "          const element = document.querySelector('#df-fbdb7ebd-0dd6-46a1-abd0-948ba711ea96');\n",
              "          const dataTable =\n",
              "            await google.colab.kernel.invokeFunction('convertToInteractive',\n",
              "                                                     [key], {});\n",
              "          if (!dataTable) return;\n",
              "\n",
              "          const docLinkHtml = 'Like what you see? Visit the ' +\n",
              "            '<a target=\"_blank\" href=https://colab.research.google.com/notebooks/data_table.ipynb>data table notebook</a>'\n",
              "            + ' to learn more about interactive tables.';\n",
              "          element.innerHTML = '';\n",
              "          dataTable['output_type'] = 'display_data';\n",
              "          await google.colab.output.renderOutput(dataTable, element);\n",
              "          const docLink = document.createElement('div');\n",
              "          docLink.innerHTML = docLinkHtml;\n",
              "          element.appendChild(docLink);\n",
              "        }\n",
              "      </script>\n",
              "    </div>\n",
              "  </div>\n",
              "  "
            ]
          },
          "metadata": {},
          "execution_count": 22
        }
      ]
    },
    {
      "cell_type": "code",
      "source": [
        "df = df.sort_values(by=['timestamp'], ascending=True)"
      ],
      "metadata": {
        "id": "ZsJCo9ucb1-f"
      },
      "execution_count": 23,
      "outputs": []
    },
    {
      "cell_type": "code",
      "source": [
        "df = df.drop_duplicates()"
      ],
      "metadata": {
        "id": "zQ_M0MwSb643"
      },
      "execution_count": 24,
      "outputs": []
    },
    {
      "cell_type": "code",
      "source": [
        "df.head(3)"
      ],
      "metadata": {
        "colab": {
          "base_uri": "https://localhost:8080/",
          "height": 143
        },
        "id": "Ghb51AVsb70z",
        "outputId": "6899758a-0958-46db-fedf-750e8ed8982f"
      },
      "execution_count": 25,
      "outputs": [
        {
          "output_type": "execute_result",
          "data": {
            "text/plain": [
              "                         id             user           fullname  \\\n",
              "339254  1253736753061662720     scott_lew_is      𝚂𝚌𝚘𝚝𝚝 𝙻Ξ𝚠𝚒𝚜 🌾   \n",
              "339220  1253780765378260992  bitcoinissaving  Bitcoin is Saving   \n",
              "339219  1253781526531145729   my_livin_truth    OPTIMIST FIELDS   \n",
              "\n",
              "                                                      url   timestamp  \\\n",
              "339254  ['https://cointelegraph.com/news/bitfinex-list...  2020-04-24   \n",
              "339220                                                 []  2020-04-24   \n",
              "339219                                                 []  2020-04-24   \n",
              "\n",
              "        replies  likes  retweets  \n",
              "339254        4     58        12  \n",
              "339220       10     65         2  \n",
              "339219        8     65         4  "
            ],
            "text/html": [
              "\n",
              "  <div id=\"df-2e41c3fe-c625-476d-bd75-9539a2f007de\">\n",
              "    <div class=\"colab-df-container\">\n",
              "      <div>\n",
              "<style scoped>\n",
              "    .dataframe tbody tr th:only-of-type {\n",
              "        vertical-align: middle;\n",
              "    }\n",
              "\n",
              "    .dataframe tbody tr th {\n",
              "        vertical-align: top;\n",
              "    }\n",
              "\n",
              "    .dataframe thead th {\n",
              "        text-align: right;\n",
              "    }\n",
              "</style>\n",
              "<table border=\"1\" class=\"dataframe\">\n",
              "  <thead>\n",
              "    <tr style=\"text-align: right;\">\n",
              "      <th></th>\n",
              "      <th>id</th>\n",
              "      <th>user</th>\n",
              "      <th>fullname</th>\n",
              "      <th>url</th>\n",
              "      <th>timestamp</th>\n",
              "      <th>replies</th>\n",
              "      <th>likes</th>\n",
              "      <th>retweets</th>\n",
              "    </tr>\n",
              "  </thead>\n",
              "  <tbody>\n",
              "    <tr>\n",
              "      <th>339254</th>\n",
              "      <td>1253736753061662720</td>\n",
              "      <td>scott_lew_is</td>\n",
              "      <td>𝚂𝚌𝚘𝚝𝚝 𝙻Ξ𝚠𝚒𝚜 🌾</td>\n",
              "      <td>['https://cointelegraph.com/news/bitfinex-list...</td>\n",
              "      <td>2020-04-24</td>\n",
              "      <td>4</td>\n",
              "      <td>58</td>\n",
              "      <td>12</td>\n",
              "    </tr>\n",
              "    <tr>\n",
              "      <th>339220</th>\n",
              "      <td>1253780765378260992</td>\n",
              "      <td>bitcoinissaving</td>\n",
              "      <td>Bitcoin is Saving</td>\n",
              "      <td>[]</td>\n",
              "      <td>2020-04-24</td>\n",
              "      <td>10</td>\n",
              "      <td>65</td>\n",
              "      <td>2</td>\n",
              "    </tr>\n",
              "    <tr>\n",
              "      <th>339219</th>\n",
              "      <td>1253781526531145729</td>\n",
              "      <td>my_livin_truth</td>\n",
              "      <td>OPTIMIST FIELDS</td>\n",
              "      <td>[]</td>\n",
              "      <td>2020-04-24</td>\n",
              "      <td>8</td>\n",
              "      <td>65</td>\n",
              "      <td>4</td>\n",
              "    </tr>\n",
              "  </tbody>\n",
              "</table>\n",
              "</div>\n",
              "      <button class=\"colab-df-convert\" onclick=\"convertToInteractive('df-2e41c3fe-c625-476d-bd75-9539a2f007de')\"\n",
              "              title=\"Convert this dataframe to an interactive table.\"\n",
              "              style=\"display:none;\">\n",
              "        \n",
              "  <svg xmlns=\"http://www.w3.org/2000/svg\" height=\"24px\"viewBox=\"0 0 24 24\"\n",
              "       width=\"24px\">\n",
              "    <path d=\"M0 0h24v24H0V0z\" fill=\"none\"/>\n",
              "    <path d=\"M18.56 5.44l.94 2.06.94-2.06 2.06-.94-2.06-.94-.94-2.06-.94 2.06-2.06.94zm-11 1L8.5 8.5l.94-2.06 2.06-.94-2.06-.94L8.5 2.5l-.94 2.06-2.06.94zm10 10l.94 2.06.94-2.06 2.06-.94-2.06-.94-.94-2.06-.94 2.06-2.06.94z\"/><path d=\"M17.41 7.96l-1.37-1.37c-.4-.4-.92-.59-1.43-.59-.52 0-1.04.2-1.43.59L10.3 9.45l-7.72 7.72c-.78.78-.78 2.05 0 2.83L4 21.41c.39.39.9.59 1.41.59.51 0 1.02-.2 1.41-.59l7.78-7.78 2.81-2.81c.8-.78.8-2.07 0-2.86zM5.41 20L4 18.59l7.72-7.72 1.47 1.35L5.41 20z\"/>\n",
              "  </svg>\n",
              "      </button>\n",
              "      \n",
              "  <style>\n",
              "    .colab-df-container {\n",
              "      display:flex;\n",
              "      flex-wrap:wrap;\n",
              "      gap: 12px;\n",
              "    }\n",
              "\n",
              "    .colab-df-convert {\n",
              "      background-color: #E8F0FE;\n",
              "      border: none;\n",
              "      border-radius: 50%;\n",
              "      cursor: pointer;\n",
              "      display: none;\n",
              "      fill: #1967D2;\n",
              "      height: 32px;\n",
              "      padding: 0 0 0 0;\n",
              "      width: 32px;\n",
              "    }\n",
              "\n",
              "    .colab-df-convert:hover {\n",
              "      background-color: #E2EBFA;\n",
              "      box-shadow: 0px 1px 2px rgba(60, 64, 67, 0.3), 0px 1px 3px 1px rgba(60, 64, 67, 0.15);\n",
              "      fill: #174EA6;\n",
              "    }\n",
              "\n",
              "    [theme=dark] .colab-df-convert {\n",
              "      background-color: #3B4455;\n",
              "      fill: #D2E3FC;\n",
              "    }\n",
              "\n",
              "    [theme=dark] .colab-df-convert:hover {\n",
              "      background-color: #434B5C;\n",
              "      box-shadow: 0px 1px 3px 1px rgba(0, 0, 0, 0.15);\n",
              "      filter: drop-shadow(0px 1px 2px rgba(0, 0, 0, 0.3));\n",
              "      fill: #FFFFFF;\n",
              "    }\n",
              "  </style>\n",
              "\n",
              "      <script>\n",
              "        const buttonEl =\n",
              "          document.querySelector('#df-2e41c3fe-c625-476d-bd75-9539a2f007de button.colab-df-convert');\n",
              "        buttonEl.style.display =\n",
              "          google.colab.kernel.accessAllowed ? 'block' : 'none';\n",
              "\n",
              "        async function convertToInteractive(key) {\n",
              "          const element = document.querySelector('#df-2e41c3fe-c625-476d-bd75-9539a2f007de');\n",
              "          const dataTable =\n",
              "            await google.colab.kernel.invokeFunction('convertToInteractive',\n",
              "                                                     [key], {});\n",
              "          if (!dataTable) return;\n",
              "\n",
              "          const docLinkHtml = 'Like what you see? Visit the ' +\n",
              "            '<a target=\"_blank\" href=https://colab.research.google.com/notebooks/data_table.ipynb>data table notebook</a>'\n",
              "            + ' to learn more about interactive tables.';\n",
              "          element.innerHTML = '';\n",
              "          dataTable['output_type'] = 'display_data';\n",
              "          await google.colab.output.renderOutput(dataTable, element);\n",
              "          const docLink = document.createElement('div');\n",
              "          docLink.innerHTML = docLinkHtml;\n",
              "          element.appendChild(docLink);\n",
              "        }\n",
              "      </script>\n",
              "    </div>\n",
              "  </div>\n",
              "  "
            ]
          },
          "metadata": {},
          "execution_count": 25
        }
      ]
    },
    {
      "cell_type": "code",
      "source": [
        "df_d = pd.DataFrame(columns=['Date', 'tweets_number', 'replies', 'likes', 'retweets'])"
      ],
      "metadata": {
        "id": "BYx6ZKUidU0a"
      },
      "execution_count": 26,
      "outputs": []
    },
    {
      "cell_type": "code",
      "source": [
        "df_d = pd.DataFrame(df['timestamp'].value_counts())\n",
        "df_d = df_d.reset_index()\n",
        "df_d.columns = ['Date','tweets_number']\n",
        "df_d = df_d.sort_values(by=['Date'], ascending=True)\n",
        "df_d.insert(0, 'id_d', range(1, 1 + len(df_d)))\n",
        "df_d.head(3)"
      ],
      "metadata": {
        "colab": {
          "base_uri": "https://localhost:8080/",
          "height": 143
        },
        "id": "hyHQaZwRckvM",
        "outputId": "08725061-7daa-424e-aa65-6ffe9c0cae6b"
      },
      "execution_count": 27,
      "outputs": [
        {
          "output_type": "execute_result",
          "data": {
            "text/plain": [
              "     id_d        Date  tweets_number\n",
              "586     1  2020-04-24             61\n",
              "553     2  2020-04-25            148\n",
              "547     3  2020-04-26            150"
            ],
            "text/html": [
              "\n",
              "  <div id=\"df-d58b7646-7cdb-406f-b099-17103d9f1402\">\n",
              "    <div class=\"colab-df-container\">\n",
              "      <div>\n",
              "<style scoped>\n",
              "    .dataframe tbody tr th:only-of-type {\n",
              "        vertical-align: middle;\n",
              "    }\n",
              "\n",
              "    .dataframe tbody tr th {\n",
              "        vertical-align: top;\n",
              "    }\n",
              "\n",
              "    .dataframe thead th {\n",
              "        text-align: right;\n",
              "    }\n",
              "</style>\n",
              "<table border=\"1\" class=\"dataframe\">\n",
              "  <thead>\n",
              "    <tr style=\"text-align: right;\">\n",
              "      <th></th>\n",
              "      <th>id_d</th>\n",
              "      <th>Date</th>\n",
              "      <th>tweets_number</th>\n",
              "    </tr>\n",
              "  </thead>\n",
              "  <tbody>\n",
              "    <tr>\n",
              "      <th>586</th>\n",
              "      <td>1</td>\n",
              "      <td>2020-04-24</td>\n",
              "      <td>61</td>\n",
              "    </tr>\n",
              "    <tr>\n",
              "      <th>553</th>\n",
              "      <td>2</td>\n",
              "      <td>2020-04-25</td>\n",
              "      <td>148</td>\n",
              "    </tr>\n",
              "    <tr>\n",
              "      <th>547</th>\n",
              "      <td>3</td>\n",
              "      <td>2020-04-26</td>\n",
              "      <td>150</td>\n",
              "    </tr>\n",
              "  </tbody>\n",
              "</table>\n",
              "</div>\n",
              "      <button class=\"colab-df-convert\" onclick=\"convertToInteractive('df-d58b7646-7cdb-406f-b099-17103d9f1402')\"\n",
              "              title=\"Convert this dataframe to an interactive table.\"\n",
              "              style=\"display:none;\">\n",
              "        \n",
              "  <svg xmlns=\"http://www.w3.org/2000/svg\" height=\"24px\"viewBox=\"0 0 24 24\"\n",
              "       width=\"24px\">\n",
              "    <path d=\"M0 0h24v24H0V0z\" fill=\"none\"/>\n",
              "    <path d=\"M18.56 5.44l.94 2.06.94-2.06 2.06-.94-2.06-.94-.94-2.06-.94 2.06-2.06.94zm-11 1L8.5 8.5l.94-2.06 2.06-.94-2.06-.94L8.5 2.5l-.94 2.06-2.06.94zm10 10l.94 2.06.94-2.06 2.06-.94-2.06-.94-.94-2.06-.94 2.06-2.06.94z\"/><path d=\"M17.41 7.96l-1.37-1.37c-.4-.4-.92-.59-1.43-.59-.52 0-1.04.2-1.43.59L10.3 9.45l-7.72 7.72c-.78.78-.78 2.05 0 2.83L4 21.41c.39.39.9.59 1.41.59.51 0 1.02-.2 1.41-.59l7.78-7.78 2.81-2.81c.8-.78.8-2.07 0-2.86zM5.41 20L4 18.59l7.72-7.72 1.47 1.35L5.41 20z\"/>\n",
              "  </svg>\n",
              "      </button>\n",
              "      \n",
              "  <style>\n",
              "    .colab-df-container {\n",
              "      display:flex;\n",
              "      flex-wrap:wrap;\n",
              "      gap: 12px;\n",
              "    }\n",
              "\n",
              "    .colab-df-convert {\n",
              "      background-color: #E8F0FE;\n",
              "      border: none;\n",
              "      border-radius: 50%;\n",
              "      cursor: pointer;\n",
              "      display: none;\n",
              "      fill: #1967D2;\n",
              "      height: 32px;\n",
              "      padding: 0 0 0 0;\n",
              "      width: 32px;\n",
              "    }\n",
              "\n",
              "    .colab-df-convert:hover {\n",
              "      background-color: #E2EBFA;\n",
              "      box-shadow: 0px 1px 2px rgba(60, 64, 67, 0.3), 0px 1px 3px 1px rgba(60, 64, 67, 0.15);\n",
              "      fill: #174EA6;\n",
              "    }\n",
              "\n",
              "    [theme=dark] .colab-df-convert {\n",
              "      background-color: #3B4455;\n",
              "      fill: #D2E3FC;\n",
              "    }\n",
              "\n",
              "    [theme=dark] .colab-df-convert:hover {\n",
              "      background-color: #434B5C;\n",
              "      box-shadow: 0px 1px 3px 1px rgba(0, 0, 0, 0.15);\n",
              "      filter: drop-shadow(0px 1px 2px rgba(0, 0, 0, 0.3));\n",
              "      fill: #FFFFFF;\n",
              "    }\n",
              "  </style>\n",
              "\n",
              "      <script>\n",
              "        const buttonEl =\n",
              "          document.querySelector('#df-d58b7646-7cdb-406f-b099-17103d9f1402 button.colab-df-convert');\n",
              "        buttonEl.style.display =\n",
              "          google.colab.kernel.accessAllowed ? 'block' : 'none';\n",
              "\n",
              "        async function convertToInteractive(key) {\n",
              "          const element = document.querySelector('#df-d58b7646-7cdb-406f-b099-17103d9f1402');\n",
              "          const dataTable =\n",
              "            await google.colab.kernel.invokeFunction('convertToInteractive',\n",
              "                                                     [key], {});\n",
              "          if (!dataTable) return;\n",
              "\n",
              "          const docLinkHtml = 'Like what you see? Visit the ' +\n",
              "            '<a target=\"_blank\" href=https://colab.research.google.com/notebooks/data_table.ipynb>data table notebook</a>'\n",
              "            + ' to learn more about interactive tables.';\n",
              "          element.innerHTML = '';\n",
              "          dataTable['output_type'] = 'display_data';\n",
              "          await google.colab.output.renderOutput(dataTable, element);\n",
              "          const docLink = document.createElement('div');\n",
              "          docLink.innerHTML = docLinkHtml;\n",
              "          element.appendChild(docLink);\n",
              "        }\n",
              "      </script>\n",
              "    </div>\n",
              "  </div>\n",
              "  "
            ]
          },
          "metadata": {},
          "execution_count": 27
        }
      ]
    },
    {
      "cell_type": "code",
      "source": [
        "df_date = pd.DataFrame(df_d['Date'])\n",
        "df_date = df_date.sort_values(by=['Date'], ascending=True)\n",
        "df_date.insert(0, 'id_date', range(1, 1 + len(df_date)))\n",
        "df_date.head(3)"
      ],
      "metadata": {
        "colab": {
          "base_uri": "https://localhost:8080/",
          "height": 143
        },
        "id": "gAKDEk1BdhGS",
        "outputId": "f926d4a6-e8bd-4348-b1f2-ed68de5998c1"
      },
      "execution_count": 28,
      "outputs": [
        {
          "output_type": "execute_result",
          "data": {
            "text/plain": [
              "     id_date        Date\n",
              "586        1  2020-04-24\n",
              "553        2  2020-04-25\n",
              "547        3  2020-04-26"
            ],
            "text/html": [
              "\n",
              "  <div id=\"df-f46f54da-2083-4cf2-9a93-5346a498dc09\">\n",
              "    <div class=\"colab-df-container\">\n",
              "      <div>\n",
              "<style scoped>\n",
              "    .dataframe tbody tr th:only-of-type {\n",
              "        vertical-align: middle;\n",
              "    }\n",
              "\n",
              "    .dataframe tbody tr th {\n",
              "        vertical-align: top;\n",
              "    }\n",
              "\n",
              "    .dataframe thead th {\n",
              "        text-align: right;\n",
              "    }\n",
              "</style>\n",
              "<table border=\"1\" class=\"dataframe\">\n",
              "  <thead>\n",
              "    <tr style=\"text-align: right;\">\n",
              "      <th></th>\n",
              "      <th>id_date</th>\n",
              "      <th>Date</th>\n",
              "    </tr>\n",
              "  </thead>\n",
              "  <tbody>\n",
              "    <tr>\n",
              "      <th>586</th>\n",
              "      <td>1</td>\n",
              "      <td>2020-04-24</td>\n",
              "    </tr>\n",
              "    <tr>\n",
              "      <th>553</th>\n",
              "      <td>2</td>\n",
              "      <td>2020-04-25</td>\n",
              "    </tr>\n",
              "    <tr>\n",
              "      <th>547</th>\n",
              "      <td>3</td>\n",
              "      <td>2020-04-26</td>\n",
              "    </tr>\n",
              "  </tbody>\n",
              "</table>\n",
              "</div>\n",
              "      <button class=\"colab-df-convert\" onclick=\"convertToInteractive('df-f46f54da-2083-4cf2-9a93-5346a498dc09')\"\n",
              "              title=\"Convert this dataframe to an interactive table.\"\n",
              "              style=\"display:none;\">\n",
              "        \n",
              "  <svg xmlns=\"http://www.w3.org/2000/svg\" height=\"24px\"viewBox=\"0 0 24 24\"\n",
              "       width=\"24px\">\n",
              "    <path d=\"M0 0h24v24H0V0z\" fill=\"none\"/>\n",
              "    <path d=\"M18.56 5.44l.94 2.06.94-2.06 2.06-.94-2.06-.94-.94-2.06-.94 2.06-2.06.94zm-11 1L8.5 8.5l.94-2.06 2.06-.94-2.06-.94L8.5 2.5l-.94 2.06-2.06.94zm10 10l.94 2.06.94-2.06 2.06-.94-2.06-.94-.94-2.06-.94 2.06-2.06.94z\"/><path d=\"M17.41 7.96l-1.37-1.37c-.4-.4-.92-.59-1.43-.59-.52 0-1.04.2-1.43.59L10.3 9.45l-7.72 7.72c-.78.78-.78 2.05 0 2.83L4 21.41c.39.39.9.59 1.41.59.51 0 1.02-.2 1.41-.59l7.78-7.78 2.81-2.81c.8-.78.8-2.07 0-2.86zM5.41 20L4 18.59l7.72-7.72 1.47 1.35L5.41 20z\"/>\n",
              "  </svg>\n",
              "      </button>\n",
              "      \n",
              "  <style>\n",
              "    .colab-df-container {\n",
              "      display:flex;\n",
              "      flex-wrap:wrap;\n",
              "      gap: 12px;\n",
              "    }\n",
              "\n",
              "    .colab-df-convert {\n",
              "      background-color: #E8F0FE;\n",
              "      border: none;\n",
              "      border-radius: 50%;\n",
              "      cursor: pointer;\n",
              "      display: none;\n",
              "      fill: #1967D2;\n",
              "      height: 32px;\n",
              "      padding: 0 0 0 0;\n",
              "      width: 32px;\n",
              "    }\n",
              "\n",
              "    .colab-df-convert:hover {\n",
              "      background-color: #E2EBFA;\n",
              "      box-shadow: 0px 1px 2px rgba(60, 64, 67, 0.3), 0px 1px 3px 1px rgba(60, 64, 67, 0.15);\n",
              "      fill: #174EA6;\n",
              "    }\n",
              "\n",
              "    [theme=dark] .colab-df-convert {\n",
              "      background-color: #3B4455;\n",
              "      fill: #D2E3FC;\n",
              "    }\n",
              "\n",
              "    [theme=dark] .colab-df-convert:hover {\n",
              "      background-color: #434B5C;\n",
              "      box-shadow: 0px 1px 3px 1px rgba(0, 0, 0, 0.15);\n",
              "      filter: drop-shadow(0px 1px 2px rgba(0, 0, 0, 0.3));\n",
              "      fill: #FFFFFF;\n",
              "    }\n",
              "  </style>\n",
              "\n",
              "      <script>\n",
              "        const buttonEl =\n",
              "          document.querySelector('#df-f46f54da-2083-4cf2-9a93-5346a498dc09 button.colab-df-convert');\n",
              "        buttonEl.style.display =\n",
              "          google.colab.kernel.accessAllowed ? 'block' : 'none';\n",
              "\n",
              "        async function convertToInteractive(key) {\n",
              "          const element = document.querySelector('#df-f46f54da-2083-4cf2-9a93-5346a498dc09');\n",
              "          const dataTable =\n",
              "            await google.colab.kernel.invokeFunction('convertToInteractive',\n",
              "                                                     [key], {});\n",
              "          if (!dataTable) return;\n",
              "\n",
              "          const docLinkHtml = 'Like what you see? Visit the ' +\n",
              "            '<a target=\"_blank\" href=https://colab.research.google.com/notebooks/data_table.ipynb>data table notebook</a>'\n",
              "            + ' to learn more about interactive tables.';\n",
              "          element.innerHTML = '';\n",
              "          dataTable['output_type'] = 'display_data';\n",
              "          await google.colab.output.renderOutput(dataTable, element);\n",
              "          const docLink = document.createElement('div');\n",
              "          docLink.innerHTML = docLinkHtml;\n",
              "          element.appendChild(docLink);\n",
              "        }\n",
              "      </script>\n",
              "    </div>\n",
              "  </div>\n",
              "  "
            ]
          },
          "metadata": {},
          "execution_count": 28
        }
      ]
    },
    {
      "cell_type": "code",
      "source": [
        "for date in df_d['Date']:\n",
        "    df_d.loc[df_d['Date'] == date, 'likes'] = df.loc[df['timestamp'] == date, 'likes'].sum()\n",
        "    df_d.loc[df_d['Date'] == date, 'replies'] = df.loc[df['timestamp'] == date, 'replies'].sum()\n",
        "    df_d.loc[df_d['Date'] == date, 'retweets'] = df.loc[df['timestamp'] == date, 'retweets'].sum()"
      ],
      "metadata": {
        "id": "Owaa52dEeCK_"
      },
      "execution_count": 29,
      "outputs": []
    },
    {
      "cell_type": "code",
      "source": [
        "df_d.Date = pd.to_datetime(df_d.Date)"
      ],
      "metadata": {
        "id": "IUdFU-05ePck"
      },
      "execution_count": 30,
      "outputs": []
    },
    {
      "cell_type": "code",
      "source": [
        "df_d.tail()"
      ],
      "metadata": {
        "colab": {
          "base_uri": "https://localhost:8080/",
          "height": 206
        },
        "id": "Uu-eEFRGeVia",
        "outputId": "af2cd1b0-9c0a-4db8-bc23-e2311a296870"
      },
      "execution_count": 31,
      "outputs": [
        {
          "output_type": "execute_result",
          "data": {
            "text/plain": [
              "     id_d       Date  tweets_number     likes  replies  retweets\n",
              "220   583 2021-11-27            643  504885.0  51112.0  108037.0\n",
              "145   584 2021-11-28            761  567120.0  68436.0   87678.0\n",
              "60    585 2021-11-29           1031  734569.0  59198.0  116512.0\n",
              "104   586 2021-11-30            843  593190.0  64732.0  108515.0\n",
              "458   587 2021-12-01            225  121716.0  11811.0   24424.0"
            ],
            "text/html": [
              "\n",
              "  <div id=\"df-1f9e8df1-6d6a-4fed-9e0a-1b141338fc8c\">\n",
              "    <div class=\"colab-df-container\">\n",
              "      <div>\n",
              "<style scoped>\n",
              "    .dataframe tbody tr th:only-of-type {\n",
              "        vertical-align: middle;\n",
              "    }\n",
              "\n",
              "    .dataframe tbody tr th {\n",
              "        vertical-align: top;\n",
              "    }\n",
              "\n",
              "    .dataframe thead th {\n",
              "        text-align: right;\n",
              "    }\n",
              "</style>\n",
              "<table border=\"1\" class=\"dataframe\">\n",
              "  <thead>\n",
              "    <tr style=\"text-align: right;\">\n",
              "      <th></th>\n",
              "      <th>id_d</th>\n",
              "      <th>Date</th>\n",
              "      <th>tweets_number</th>\n",
              "      <th>likes</th>\n",
              "      <th>replies</th>\n",
              "      <th>retweets</th>\n",
              "    </tr>\n",
              "  </thead>\n",
              "  <tbody>\n",
              "    <tr>\n",
              "      <th>220</th>\n",
              "      <td>583</td>\n",
              "      <td>2021-11-27</td>\n",
              "      <td>643</td>\n",
              "      <td>504885.0</td>\n",
              "      <td>51112.0</td>\n",
              "      <td>108037.0</td>\n",
              "    </tr>\n",
              "    <tr>\n",
              "      <th>145</th>\n",
              "      <td>584</td>\n",
              "      <td>2021-11-28</td>\n",
              "      <td>761</td>\n",
              "      <td>567120.0</td>\n",
              "      <td>68436.0</td>\n",
              "      <td>87678.0</td>\n",
              "    </tr>\n",
              "    <tr>\n",
              "      <th>60</th>\n",
              "      <td>585</td>\n",
              "      <td>2021-11-29</td>\n",
              "      <td>1031</td>\n",
              "      <td>734569.0</td>\n",
              "      <td>59198.0</td>\n",
              "      <td>116512.0</td>\n",
              "    </tr>\n",
              "    <tr>\n",
              "      <th>104</th>\n",
              "      <td>586</td>\n",
              "      <td>2021-11-30</td>\n",
              "      <td>843</td>\n",
              "      <td>593190.0</td>\n",
              "      <td>64732.0</td>\n",
              "      <td>108515.0</td>\n",
              "    </tr>\n",
              "    <tr>\n",
              "      <th>458</th>\n",
              "      <td>587</td>\n",
              "      <td>2021-12-01</td>\n",
              "      <td>225</td>\n",
              "      <td>121716.0</td>\n",
              "      <td>11811.0</td>\n",
              "      <td>24424.0</td>\n",
              "    </tr>\n",
              "  </tbody>\n",
              "</table>\n",
              "</div>\n",
              "      <button class=\"colab-df-convert\" onclick=\"convertToInteractive('df-1f9e8df1-6d6a-4fed-9e0a-1b141338fc8c')\"\n",
              "              title=\"Convert this dataframe to an interactive table.\"\n",
              "              style=\"display:none;\">\n",
              "        \n",
              "  <svg xmlns=\"http://www.w3.org/2000/svg\" height=\"24px\"viewBox=\"0 0 24 24\"\n",
              "       width=\"24px\">\n",
              "    <path d=\"M0 0h24v24H0V0z\" fill=\"none\"/>\n",
              "    <path d=\"M18.56 5.44l.94 2.06.94-2.06 2.06-.94-2.06-.94-.94-2.06-.94 2.06-2.06.94zm-11 1L8.5 8.5l.94-2.06 2.06-.94-2.06-.94L8.5 2.5l-.94 2.06-2.06.94zm10 10l.94 2.06.94-2.06 2.06-.94-2.06-.94-.94-2.06-.94 2.06-2.06.94z\"/><path d=\"M17.41 7.96l-1.37-1.37c-.4-.4-.92-.59-1.43-.59-.52 0-1.04.2-1.43.59L10.3 9.45l-7.72 7.72c-.78.78-.78 2.05 0 2.83L4 21.41c.39.39.9.59 1.41.59.51 0 1.02-.2 1.41-.59l7.78-7.78 2.81-2.81c.8-.78.8-2.07 0-2.86zM5.41 20L4 18.59l7.72-7.72 1.47 1.35L5.41 20z\"/>\n",
              "  </svg>\n",
              "      </button>\n",
              "      \n",
              "  <style>\n",
              "    .colab-df-container {\n",
              "      display:flex;\n",
              "      flex-wrap:wrap;\n",
              "      gap: 12px;\n",
              "    }\n",
              "\n",
              "    .colab-df-convert {\n",
              "      background-color: #E8F0FE;\n",
              "      border: none;\n",
              "      border-radius: 50%;\n",
              "      cursor: pointer;\n",
              "      display: none;\n",
              "      fill: #1967D2;\n",
              "      height: 32px;\n",
              "      padding: 0 0 0 0;\n",
              "      width: 32px;\n",
              "    }\n",
              "\n",
              "    .colab-df-convert:hover {\n",
              "      background-color: #E2EBFA;\n",
              "      box-shadow: 0px 1px 2px rgba(60, 64, 67, 0.3), 0px 1px 3px 1px rgba(60, 64, 67, 0.15);\n",
              "      fill: #174EA6;\n",
              "    }\n",
              "\n",
              "    [theme=dark] .colab-df-convert {\n",
              "      background-color: #3B4455;\n",
              "      fill: #D2E3FC;\n",
              "    }\n",
              "\n",
              "    [theme=dark] .colab-df-convert:hover {\n",
              "      background-color: #434B5C;\n",
              "      box-shadow: 0px 1px 3px 1px rgba(0, 0, 0, 0.15);\n",
              "      filter: drop-shadow(0px 1px 2px rgba(0, 0, 0, 0.3));\n",
              "      fill: #FFFFFF;\n",
              "    }\n",
              "  </style>\n",
              "\n",
              "      <script>\n",
              "        const buttonEl =\n",
              "          document.querySelector('#df-1f9e8df1-6d6a-4fed-9e0a-1b141338fc8c button.colab-df-convert');\n",
              "        buttonEl.style.display =\n",
              "          google.colab.kernel.accessAllowed ? 'block' : 'none';\n",
              "\n",
              "        async function convertToInteractive(key) {\n",
              "          const element = document.querySelector('#df-1f9e8df1-6d6a-4fed-9e0a-1b141338fc8c');\n",
              "          const dataTable =\n",
              "            await google.colab.kernel.invokeFunction('convertToInteractive',\n",
              "                                                     [key], {});\n",
              "          if (!dataTable) return;\n",
              "\n",
              "          const docLinkHtml = 'Like what you see? Visit the ' +\n",
              "            '<a target=\"_blank\" href=https://colab.research.google.com/notebooks/data_table.ipynb>data table notebook</a>'\n",
              "            + ' to learn more about interactive tables.';\n",
              "          element.innerHTML = '';\n",
              "          dataTable['output_type'] = 'display_data';\n",
              "          await google.colab.output.renderOutput(dataTable, element);\n",
              "          const docLink = document.createElement('div');\n",
              "          docLink.innerHTML = docLinkHtml;\n",
              "          element.appendChild(docLink);\n",
              "        }\n",
              "      </script>\n",
              "    </div>\n",
              "  </div>\n",
              "  "
            ]
          },
          "metadata": {},
          "execution_count": 31
        }
      ]
    },
    {
      "cell_type": "markdown",
      "source": [
        "##data scaling"
      ],
      "metadata": {
        "id": "MMelHBbRjXtd"
      }
    },
    {
      "cell_type": "markdown",
      "source": [
        "**I use the Bollinger band indicator and below function to scale the data**\n",
        "\n",
        "![bollingerBands (1).jpg](data:image/jpeg;base64,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)"
      ],
      "metadata": {
        "id": "0AgfiAoDj4OT"
      }
    },
    {
      "cell_type": "code",
      "source": [
        "def scaling_func(series):\n",
        "  df_res = pd.DataFrame()\n",
        "  period=20\n",
        "  df_res['SMA_20'] = series.rolling(window=period).mean()\n",
        "  df_res['STD_20'] = series.rolling(window=period).std()\n",
        "  df_res['Upper_Band'] = df_res['SMA_20'] + (df_res['STD_20'] *2)\n",
        "  df_res['Lower_Band'] = df_res['SMA_20'] - (df_res['STD_20'] *2)\n",
        "  df_res['series_scaled'] = (series - df_res['SMA_20'])/(df_res['Upper_Band']-df_res['Lower_Band'])\n",
        "  return df_res['series_scaled'].values"
      ],
      "metadata": {
        "id": "UnxDeWFDj5M0"
      },
      "execution_count": 34,
      "outputs": []
    },
    {
      "cell_type": "code",
      "source": [
        "df_d.head(3)"
      ],
      "metadata": {
        "colab": {
          "base_uri": "https://localhost:8080/",
          "height": 143
        },
        "id": "66zY83sElAXz",
        "outputId": "f230aa63-4122-427c-f655-806a70aa97a7"
      },
      "execution_count": 37,
      "outputs": [
        {
          "output_type": "execute_result",
          "data": {
            "text/plain": [
              "     id_d       Date  tweets_number    likes  replies  retweets\n",
              "586     1 2020-04-24             61  11919.0   1178.0    1955.0\n",
              "553     2 2020-04-25            148  48840.0   5779.0    9971.0\n",
              "547     3 2020-04-26            150  41184.0   6282.0    7040.0"
            ],
            "text/html": [
              "\n",
              "  <div id=\"df-d07ee8bc-1319-4cfc-b403-6b68329a6d97\">\n",
              "    <div class=\"colab-df-container\">\n",
              "      <div>\n",
              "<style scoped>\n",
              "    .dataframe tbody tr th:only-of-type {\n",
              "        vertical-align: middle;\n",
              "    }\n",
              "\n",
              "    .dataframe tbody tr th {\n",
              "        vertical-align: top;\n",
              "    }\n",
              "\n",
              "    .dataframe thead th {\n",
              "        text-align: right;\n",
              "    }\n",
              "</style>\n",
              "<table border=\"1\" class=\"dataframe\">\n",
              "  <thead>\n",
              "    <tr style=\"text-align: right;\">\n",
              "      <th></th>\n",
              "      <th>id_d</th>\n",
              "      <th>Date</th>\n",
              "      <th>tweets_number</th>\n",
              "      <th>likes</th>\n",
              "      <th>replies</th>\n",
              "      <th>retweets</th>\n",
              "    </tr>\n",
              "  </thead>\n",
              "  <tbody>\n",
              "    <tr>\n",
              "      <th>586</th>\n",
              "      <td>1</td>\n",
              "      <td>2020-04-24</td>\n",
              "      <td>61</td>\n",
              "      <td>11919.0</td>\n",
              "      <td>1178.0</td>\n",
              "      <td>1955.0</td>\n",
              "    </tr>\n",
              "    <tr>\n",
              "      <th>553</th>\n",
              "      <td>2</td>\n",
              "      <td>2020-04-25</td>\n",
              "      <td>148</td>\n",
              "      <td>48840.0</td>\n",
              "      <td>5779.0</td>\n",
              "      <td>9971.0</td>\n",
              "    </tr>\n",
              "    <tr>\n",
              "      <th>547</th>\n",
              "      <td>3</td>\n",
              "      <td>2020-04-26</td>\n",
              "      <td>150</td>\n",
              "      <td>41184.0</td>\n",
              "      <td>6282.0</td>\n",
              "      <td>7040.0</td>\n",
              "    </tr>\n",
              "  </tbody>\n",
              "</table>\n",
              "</div>\n",
              "      <button class=\"colab-df-convert\" onclick=\"convertToInteractive('df-d07ee8bc-1319-4cfc-b403-6b68329a6d97')\"\n",
              "              title=\"Convert this dataframe to an interactive table.\"\n",
              "              style=\"display:none;\">\n",
              "        \n",
              "  <svg xmlns=\"http://www.w3.org/2000/svg\" height=\"24px\"viewBox=\"0 0 24 24\"\n",
              "       width=\"24px\">\n",
              "    <path d=\"M0 0h24v24H0V0z\" fill=\"none\"/>\n",
              "    <path d=\"M18.56 5.44l.94 2.06.94-2.06 2.06-.94-2.06-.94-.94-2.06-.94 2.06-2.06.94zm-11 1L8.5 8.5l.94-2.06 2.06-.94-2.06-.94L8.5 2.5l-.94 2.06-2.06.94zm10 10l.94 2.06.94-2.06 2.06-.94-2.06-.94-.94-2.06-.94 2.06-2.06.94z\"/><path d=\"M17.41 7.96l-1.37-1.37c-.4-.4-.92-.59-1.43-.59-.52 0-1.04.2-1.43.59L10.3 9.45l-7.72 7.72c-.78.78-.78 2.05 0 2.83L4 21.41c.39.39.9.59 1.41.59.51 0 1.02-.2 1.41-.59l7.78-7.78 2.81-2.81c.8-.78.8-2.07 0-2.86zM5.41 20L4 18.59l7.72-7.72 1.47 1.35L5.41 20z\"/>\n",
              "  </svg>\n",
              "      </button>\n",
              "      \n",
              "  <style>\n",
              "    .colab-df-container {\n",
              "      display:flex;\n",
              "      flex-wrap:wrap;\n",
              "      gap: 12px;\n",
              "    }\n",
              "\n",
              "    .colab-df-convert {\n",
              "      background-color: #E8F0FE;\n",
              "      border: none;\n",
              "      border-radius: 50%;\n",
              "      cursor: pointer;\n",
              "      display: none;\n",
              "      fill: #1967D2;\n",
              "      height: 32px;\n",
              "      padding: 0 0 0 0;\n",
              "      width: 32px;\n",
              "    }\n",
              "\n",
              "    .colab-df-convert:hover {\n",
              "      background-color: #E2EBFA;\n",
              "      box-shadow: 0px 1px 2px rgba(60, 64, 67, 0.3), 0px 1px 3px 1px rgba(60, 64, 67, 0.15);\n",
              "      fill: #174EA6;\n",
              "    }\n",
              "\n",
              "    [theme=dark] .colab-df-convert {\n",
              "      background-color: #3B4455;\n",
              "      fill: #D2E3FC;\n",
              "    }\n",
              "\n",
              "    [theme=dark] .colab-df-convert:hover {\n",
              "      background-color: #434B5C;\n",
              "      box-shadow: 0px 1px 3px 1px rgba(0, 0, 0, 0.15);\n",
              "      filter: drop-shadow(0px 1px 2px rgba(0, 0, 0, 0.3));\n",
              "      fill: #FFFFFF;\n",
              "    }\n",
              "  </style>\n",
              "\n",
              "      <script>\n",
              "        const buttonEl =\n",
              "          document.querySelector('#df-d07ee8bc-1319-4cfc-b403-6b68329a6d97 button.colab-df-convert');\n",
              "        buttonEl.style.display =\n",
              "          google.colab.kernel.accessAllowed ? 'block' : 'none';\n",
              "\n",
              "        async function convertToInteractive(key) {\n",
              "          const element = document.querySelector('#df-d07ee8bc-1319-4cfc-b403-6b68329a6d97');\n",
              "          const dataTable =\n",
              "            await google.colab.kernel.invokeFunction('convertToInteractive',\n",
              "                                                     [key], {});\n",
              "          if (!dataTable) return;\n",
              "\n",
              "          const docLinkHtml = 'Like what you see? Visit the ' +\n",
              "            '<a target=\"_blank\" href=https://colab.research.google.com/notebooks/data_table.ipynb>data table notebook</a>'\n",
              "            + ' to learn more about interactive tables.';\n",
              "          element.innerHTML = '';\n",
              "          dataTable['output_type'] = 'display_data';\n",
              "          await google.colab.output.renderOutput(dataTable, element);\n",
              "          const docLink = document.createElement('div');\n",
              "          docLink.innerHTML = docLinkHtml;\n",
              "          element.appendChild(docLink);\n",
              "        }\n",
              "      </script>\n",
              "    </div>\n",
              "  </div>\n",
              "  "
            ]
          },
          "metadata": {},
          "execution_count": 37
        }
      ]
    },
    {
      "cell_type": "code",
      "source": [
        "df_s = df_d[['Date', 'tweets_number',\t'likes', 'replies', 'retweets']].copy()"
      ],
      "metadata": {
        "id": "7-28RJGtlPsY"
      },
      "execution_count": 38,
      "outputs": []
    },
    {
      "cell_type": "code",
      "source": [
        "df_price = yfinance.download(['BTC-USD'], start='2014-01-01', interval='1d')[['Close']]\n",
        "df_price = df_price.reset_index()\n",
        "df_price.columns = ['Date', 'Close']\n",
        "df_price['Date'] = pd.to_datetime(df_price.Date).dt.tz_localize(None)"
      ],
      "metadata": {
        "colab": {
          "base_uri": "https://localhost:8080/"
        },
        "id": "jnSDAYnkllCY",
        "outputId": "ff41d5ab-3f68-4aaf-e31a-951bfefea72e"
      },
      "execution_count": 43,
      "outputs": [
        {
          "output_type": "stream",
          "name": "stdout",
          "text": [
            "\r[*********************100%***********************]  1 of 1 completed\n"
          ]
        }
      ]
    },
    {
      "cell_type": "code",
      "source": [
        "df_btc = pd.merge(df_price, df_s, left_on='Date', right_on='Date')"
      ],
      "metadata": {
        "id": "JUhrJNptmexw"
      },
      "execution_count": 44,
      "outputs": []
    },
    {
      "cell_type": "code",
      "source": [
        "df_btc.head(3)"
      ],
      "metadata": {
        "colab": {
          "base_uri": "https://localhost:8080/",
          "height": 143
        },
        "id": "791soDJGm4bt",
        "outputId": "088ab927-aef0-4d5b-d0eb-7a60d76afa19"
      },
      "execution_count": 45,
      "outputs": [
        {
          "output_type": "execute_result",
          "data": {
            "text/plain": [
              "        Date        Close  tweets_number    likes  replies  retweets\n",
              "0 2020-04-24  7550.900879             61  11919.0   1178.0    1955.0\n",
              "1 2020-04-25  7569.936035            148  48840.0   5779.0    9971.0\n",
              "2 2020-04-26  7679.867188            150  41184.0   6282.0    7040.0"
            ],
            "text/html": [
              "\n",
              "  <div id=\"df-e924ca55-7f67-46cf-89ac-0585f320de10\">\n",
              "    <div class=\"colab-df-container\">\n",
              "      <div>\n",
              "<style scoped>\n",
              "    .dataframe tbody tr th:only-of-type {\n",
              "        vertical-align: middle;\n",
              "    }\n",
              "\n",
              "    .dataframe tbody tr th {\n",
              "        vertical-align: top;\n",
              "    }\n",
              "\n",
              "    .dataframe thead th {\n",
              "        text-align: right;\n",
              "    }\n",
              "</style>\n",
              "<table border=\"1\" class=\"dataframe\">\n",
              "  <thead>\n",
              "    <tr style=\"text-align: right;\">\n",
              "      <th></th>\n",
              "      <th>Date</th>\n",
              "      <th>Close</th>\n",
              "      <th>tweets_number</th>\n",
              "      <th>likes</th>\n",
              "      <th>replies</th>\n",
              "      <th>retweets</th>\n",
              "    </tr>\n",
              "  </thead>\n",
              "  <tbody>\n",
              "    <tr>\n",
              "      <th>0</th>\n",
              "      <td>2020-04-24</td>\n",
              "      <td>7550.900879</td>\n",
              "      <td>61</td>\n",
              "      <td>11919.0</td>\n",
              "      <td>1178.0</td>\n",
              "      <td>1955.0</td>\n",
              "    </tr>\n",
              "    <tr>\n",
              "      <th>1</th>\n",
              "      <td>2020-04-25</td>\n",
              "      <td>7569.936035</td>\n",
              "      <td>148</td>\n",
              "      <td>48840.0</td>\n",
              "      <td>5779.0</td>\n",
              "      <td>9971.0</td>\n",
              "    </tr>\n",
              "    <tr>\n",
              "      <th>2</th>\n",
              "      <td>2020-04-26</td>\n",
              "      <td>7679.867188</td>\n",
              "      <td>150</td>\n",
              "      <td>41184.0</td>\n",
              "      <td>6282.0</td>\n",
              "      <td>7040.0</td>\n",
              "    </tr>\n",
              "  </tbody>\n",
              "</table>\n",
              "</div>\n",
              "      <button class=\"colab-df-convert\" onclick=\"convertToInteractive('df-e924ca55-7f67-46cf-89ac-0585f320de10')\"\n",
              "              title=\"Convert this dataframe to an interactive table.\"\n",
              "              style=\"display:none;\">\n",
              "        \n",
              "  <svg xmlns=\"http://www.w3.org/2000/svg\" height=\"24px\"viewBox=\"0 0 24 24\"\n",
              "       width=\"24px\">\n",
              "    <path d=\"M0 0h24v24H0V0z\" fill=\"none\"/>\n",
              "    <path d=\"M18.56 5.44l.94 2.06.94-2.06 2.06-.94-2.06-.94-.94-2.06-.94 2.06-2.06.94zm-11 1L8.5 8.5l.94-2.06 2.06-.94-2.06-.94L8.5 2.5l-.94 2.06-2.06.94zm10 10l.94 2.06.94-2.06 2.06-.94-2.06-.94-.94-2.06-.94 2.06-2.06.94z\"/><path d=\"M17.41 7.96l-1.37-1.37c-.4-.4-.92-.59-1.43-.59-.52 0-1.04.2-1.43.59L10.3 9.45l-7.72 7.72c-.78.78-.78 2.05 0 2.83L4 21.41c.39.39.9.59 1.41.59.51 0 1.02-.2 1.41-.59l7.78-7.78 2.81-2.81c.8-.78.8-2.07 0-2.86zM5.41 20L4 18.59l7.72-7.72 1.47 1.35L5.41 20z\"/>\n",
              "  </svg>\n",
              "      </button>\n",
              "      \n",
              "  <style>\n",
              "    .colab-df-container {\n",
              "      display:flex;\n",
              "      flex-wrap:wrap;\n",
              "      gap: 12px;\n",
              "    }\n",
              "\n",
              "    .colab-df-convert {\n",
              "      background-color: #E8F0FE;\n",
              "      border: none;\n",
              "      border-radius: 50%;\n",
              "      cursor: pointer;\n",
              "      display: none;\n",
              "      fill: #1967D2;\n",
              "      height: 32px;\n",
              "      padding: 0 0 0 0;\n",
              "      width: 32px;\n",
              "    }\n",
              "\n",
              "    .colab-df-convert:hover {\n",
              "      background-color: #E2EBFA;\n",
              "      box-shadow: 0px 1px 2px rgba(60, 64, 67, 0.3), 0px 1px 3px 1px rgba(60, 64, 67, 0.15);\n",
              "      fill: #174EA6;\n",
              "    }\n",
              "\n",
              "    [theme=dark] .colab-df-convert {\n",
              "      background-color: #3B4455;\n",
              "      fill: #D2E3FC;\n",
              "    }\n",
              "\n",
              "    [theme=dark] .colab-df-convert:hover {\n",
              "      background-color: #434B5C;\n",
              "      box-shadow: 0px 1px 3px 1px rgba(0, 0, 0, 0.15);\n",
              "      filter: drop-shadow(0px 1px 2px rgba(0, 0, 0, 0.3));\n",
              "      fill: #FFFFFF;\n",
              "    }\n",
              "  </style>\n",
              "\n",
              "      <script>\n",
              "        const buttonEl =\n",
              "          document.querySelector('#df-e924ca55-7f67-46cf-89ac-0585f320de10 button.colab-df-convert');\n",
              "        buttonEl.style.display =\n",
              "          google.colab.kernel.accessAllowed ? 'block' : 'none';\n",
              "\n",
              "        async function convertToInteractive(key) {\n",
              "          const element = document.querySelector('#df-e924ca55-7f67-46cf-89ac-0585f320de10');\n",
              "          const dataTable =\n",
              "            await google.colab.kernel.invokeFunction('convertToInteractive',\n",
              "                                                     [key], {});\n",
              "          if (!dataTable) return;\n",
              "\n",
              "          const docLinkHtml = 'Like what you see? Visit the ' +\n",
              "            '<a target=\"_blank\" href=https://colab.research.google.com/notebooks/data_table.ipynb>data table notebook</a>'\n",
              "            + ' to learn more about interactive tables.';\n",
              "          element.innerHTML = '';\n",
              "          dataTable['output_type'] = 'display_data';\n",
              "          await google.colab.output.renderOutput(dataTable, element);\n",
              "          const docLink = document.createElement('div');\n",
              "          docLink.innerHTML = docLinkHtml;\n",
              "          element.appendChild(docLink);\n",
              "        }\n",
              "      </script>\n",
              "    </div>\n",
              "  </div>\n",
              "  "
            ]
          },
          "metadata": {},
          "execution_count": 45
        }
      ]
    },
    {
      "cell_type": "markdown",
      "source": [
        "**ob_func is a momentum function that uses target flow to predict changes in stock price. This function works like as OBV indicator**"
      ],
      "metadata": {
        "id": "TtHnb9tDqIbk"
      }
    },
    {
      "cell_type": "code",
      "source": [
        "def ob_func(price_series, target_series):\n",
        "  return np.where(price_series > price_series.shift(1), target_series, np.where(price_series < price_series.shift(1), -target_series, 0)).cumsum()"
      ],
      "metadata": {
        "id": "AZULf5FTn9bd"
      },
      "execution_count": 50,
      "outputs": []
    },
    {
      "cell_type": "code",
      "source": [
        "df_btc['ob_tweetsNumber'] = ob_func(df_btc.Close, df_btc.tweets_number)\n",
        "df_btc['ob_likes'] = ob_func(df_btc.Close, df_btc.likes)\n",
        "df_btc['ob_replies'] = ob_func(df_btc.Close, df_btc.replies)\n",
        "df_btc['ob_retweets'] = ob_func(df_btc.Close, df_btc.retweets)"
      ],
      "metadata": {
        "id": "MdcSMgXZpBhL"
      },
      "execution_count": 51,
      "outputs": []
    },
    {
      "cell_type": "code",
      "source": [
        "df_btc['sc_Close'] = scaling_func(df_btc.Close)\n",
        "df_btc['sc_tweetsNumber'] = scaling_func(df_btc.ob_tweetsNumber)\n",
        "df_btc['sc_likes'] = scaling_func(df_btc.ob_likes)\n",
        "df_btc['sc_replies'] = scaling_func(df_btc.ob_replies)\n",
        "df_btc['sc_retweets'] = scaling_func(df_btc.ob_retweets)"
      ],
      "metadata": {
        "id": "SkuKYIGppuJK"
      },
      "execution_count": 58,
      "outputs": []
    },
    {
      "cell_type": "code",
      "source": [
        "columns = ['sc_Close', 'sc_tweetsNumber', 'sc_likes', 'sc_replies', 'sc_retweets']"
      ],
      "metadata": {
        "id": "oeiH16_Yto1r"
      },
      "execution_count": 59,
      "outputs": []
    },
    {
      "cell_type": "markdown",
      "source": [
        "**wow! I extracted new features from Twitter. And they have a very good relationship with the price**"
      ],
      "metadata": {
        "id": "QDmhzOEpvzcb"
      }
    },
    {
      "cell_type": "code",
      "source": [
        "plt.figure(figsize=(14,6))\n",
        "for column in columns:\n",
        "  plt.plot(df_btc[column], label=column[3:], lw=1.5)\n",
        "plt.legend(loc='upper right')\n",
        "plt.show()"
      ],
      "metadata": {
        "colab": {
          "base_uri": "https://localhost:8080/",
          "height": 398
        },
        "id": "L3b2T0nPuMNT",
        "outputId": "413a28e5-c0fa-4e91-ed5b-779e0f4de46c"
      },
      "execution_count": 192,
      "outputs": [
        {
          "output_type": "display_data",
          "data": {
            "text/plain": [
              "<Figure size 1008x432 with 1 Axes>"
            ],
            "image/png": "[encoded data removed]"
          },
          "metadata": {}
        }
      ]
    },
    {
      "cell_type": "code",
      "source": [
        "corr = df_btc[columns].set_axis(['Bitcoin Price', 'Tweets Number', 'Likes', 'Replies', 'Retweets'], axis=1, inplace=False).corr()\n",
        "corr.style.background_gradient(cmap='coolwarm').set_precision(2)"
      ],
      "metadata": {
        "colab": {
          "base_uri": "https://localhost:8080/",
          "height": 241
        },
        "id": "RR4DZImCuiXF",
        "outputId": "c54e252a-d0ff-4c2e-9c7e-b42ce1aab32b"
      },
      "execution_count": 215,
      "outputs": [
        {
          "output_type": "stream",
          "name": "stderr",
          "text": [
            "/usr/local/lib/python3.7/dist-packages/ipykernel_launcher.py:2: FutureWarning: this method is deprecated in favour of `Styler.format(precision=..)`\n",
            "  \n"
          ]
        },
        {
          "output_type": "execute_result",
          "data": {
            "text/plain": [
              "<pandas.io.formats.style.Styler at 0x7fcb4e9f75d0>"
            ],
            "text/html": [
              "<style type=\"text/css\">\n",
              "#T_9652d_row0_col0, #T_9652d_row1_col1, #T_9652d_row2_col2, #T_9652d_row3_col3, #T_9652d_row4_col4 {\n",
              "  background-color: #b40426;\n",
              "  color: #f1f1f1;\n",
              "}\n",
              "#T_9652d_row0_col1, #T_9652d_row0_col2, #T_9652d_row0_col3, #T_9652d_row0_col4, #T_9652d_row1_col0 {\n",
              "  background-color: #3b4cc0;\n",
              "  color: #f1f1f1;\n",
              "}\n",
              "#T_9652d_row1_col2, #T_9652d_row2_col1 {\n",
              "  background-color: #cf453c;\n",
              "  color: #f1f1f1;\n",
              "}\n",
              "#T_9652d_row1_col3 {\n",
              "  background-color: #f39778;\n",
              "  color: #000000;\n",
              "}\n",
              "#T_9652d_row1_col4, #T_9652d_row4_col1 {\n",
              "  background-color: #da5a49;\n",
              "  color: #f1f1f1;\n",
              "}\n",
              "#T_9652d_row2_col0 {\n",
              "  background-color: #4358cb;\n",
              "  color: #f1f1f1;\n",
              "}\n",
              "#T_9652d_row2_col3, #T_9652d_row4_col3 {\n",
              "  background-color: #f18d6f;\n",
              "  color: #f1f1f1;\n",
              "}\n",
              "#T_9652d_row2_col4, #T_9652d_row4_col2 {\n",
              "  background-color: #cd423b;\n",
              "  color: #f1f1f1;\n",
              "}\n",
              "#T_9652d_row3_col0 {\n",
              "  background-color: #5f7fe8;\n",
              "  color: #f1f1f1;\n",
              "}\n",
              "#T_9652d_row3_col1 {\n",
              "  background-color: #f08a6c;\n",
              "  color: #f1f1f1;\n",
              "}\n",
              "#T_9652d_row3_col2 {\n",
              "  background-color: #ed8366;\n",
              "  color: #f1f1f1;\n",
              "}\n",
              "#T_9652d_row3_col4 {\n",
              "  background-color: #ec8165;\n",
              "  color: #f1f1f1;\n",
              "}\n",
              "#T_9652d_row4_col0 {\n",
              "  background-color: #3c4ec2;\n",
              "  color: #f1f1f1;\n",
              "}\n",
              "</style>\n",
              "<table id=\"T_9652d_\" class=\"dataframe\">\n",
              "  <thead>\n",
              "    <tr>\n",
              "      <th class=\"blank level0\" >&nbsp;</th>\n",
              "      <th class=\"col_heading level0 col0\" >Bitcoin Price</th>\n",
              "      <th class=\"col_heading level0 col1\" >Tweets Number</th>\n",
              "      <th class=\"col_heading level0 col2\" >Likes</th>\n",
              "      <th class=\"col_heading level0 col3\" >Replies</th>\n",
              "      <th class=\"col_heading level0 col4\" >Retweets</th>\n",
              "    </tr>\n",
              "  </thead>\n",
              "  <tbody>\n",
              "    <tr>\n",
              "      <th id=\"T_9652d_level0_row0\" class=\"row_heading level0 row0\" >Bitcoin Price</th>\n",
              "      <td id=\"T_9652d_row0_col0\" class=\"data row0 col0\" >1.00</td>\n",
              "      <td id=\"T_9652d_row0_col1\" class=\"data row0 col1\" >0.69</td>\n",
              "      <td id=\"T_9652d_row0_col2\" class=\"data row0 col2\" >0.70</td>\n",
              "      <td id=\"T_9652d_row0_col3\" class=\"data row0 col3\" >0.73</td>\n",
              "      <td id=\"T_9652d_row0_col4\" class=\"data row0 col4\" >0.69</td>\n",
              "    </tr>\n",
              "    <tr>\n",
              "      <th id=\"T_9652d_level0_row1\" class=\"row_heading level0 row1\" >Tweets Number</th>\n",
              "      <td id=\"T_9652d_row1_col0\" class=\"data row1 col0\" >0.69</td>\n",
              "      <td id=\"T_9652d_row1_col1\" class=\"data row1 col1\" >1.00</td>\n",
              "      <td id=\"T_9652d_row1_col2\" class=\"data row1 col2\" >0.98</td>\n",
              "      <td id=\"T_9652d_row1_col3\" class=\"data row1 col3\" >0.93</td>\n",
              "      <td id=\"T_9652d_row1_col4\" class=\"data row1 col4\" >0.96</td>\n",
              "    </tr>\n",
              "    <tr>\n",
              "      <th id=\"T_9652d_level0_row2\" class=\"row_heading level0 row2\" >Likes</th>\n",
              "      <td id=\"T_9652d_row2_col0\" class=\"data row2 col0\" >0.70</td>\n",
              "      <td id=\"T_9652d_row2_col1\" class=\"data row2 col1\" >0.98</td>\n",
              "      <td id=\"T_9652d_row2_col2\" class=\"data row2 col2\" >1.00</td>\n",
              "      <td id=\"T_9652d_row2_col3\" class=\"data row2 col3\" >0.94</td>\n",
              "      <td id=\"T_9652d_row2_col4\" class=\"data row2 col4\" >0.98</td>\n",
              "    </tr>\n",
              "    <tr>\n",
              "      <th id=\"T_9652d_level0_row3\" class=\"row_heading level0 row3\" >Replies</th>\n",
              "      <td id=\"T_9652d_row3_col0\" class=\"data row3 col0\" >0.73</td>\n",
              "      <td id=\"T_9652d_row3_col1\" class=\"data row3 col1\" >0.93</td>\n",
              "      <td id=\"T_9652d_row3_col2\" class=\"data row3 col2\" >0.94</td>\n",
              "      <td id=\"T_9652d_row3_col3\" class=\"data row3 col3\" >1.00</td>\n",
              "      <td id=\"T_9652d_row3_col4\" class=\"data row3 col4\" >0.94</td>\n",
              "    </tr>\n",
              "    <tr>\n",
              "      <th id=\"T_9652d_level0_row4\" class=\"row_heading level0 row4\" >Retweets</th>\n",
              "      <td id=\"T_9652d_row4_col0\" class=\"data row4 col0\" >0.69</td>\n",
              "      <td id=\"T_9652d_row4_col1\" class=\"data row4 col1\" >0.96</td>\n",
              "      <td id=\"T_9652d_row4_col2\" class=\"data row4 col2\" >0.98</td>\n",
              "      <td id=\"T_9652d_row4_col3\" class=\"data row4 col3\" >0.94</td>\n",
              "      <td id=\"T_9652d_row4_col4\" class=\"data row4 col4\" >1.00</td>\n",
              "    </tr>\n",
              "  </tbody>\n",
              "</table>\n"
            ]
          },
          "metadata": {},
          "execution_count": 215
        }
      ]
    },
    {
      "cell_type": "markdown",
      "source": [
        "***Now I use a model to predict the price***"
      ],
      "metadata": {
        "id": "_LDSd3XxwjIi"
      }
    },
    {
      "cell_type": "markdown",
      "source": [
        "##Model"
      ],
      "metadata": {
        "id": "VdnXaMRywwNr"
      }
    },
    {
      "cell_type": "code",
      "source": [
        "import tensorflow as tf\n",
        "from tensorflow import keras\n",
        "from keras import layers\n",
        "from sklearn.preprocessing import MinMaxScaler"
      ],
      "metadata": {
        "id": "qn0MDDBQEMPM"
      },
      "execution_count": 135,
      "outputs": []
    },
    {
      "cell_type": "code",
      "source": [
        "df_log = df_btc[columns].dropna()"
      ],
      "metadata": {
        "id": "jQf7JfcZIVPX"
      },
      "execution_count": 73,
      "outputs": []
    },
    {
      "cell_type": "code",
      "source": [
        "df_log.head(3)"
      ],
      "metadata": {
        "colab": {
          "base_uri": "https://localhost:8080/",
          "height": 143
        },
        "id": "NakfJhHsIazR",
        "outputId": "90214c06-0171-42f5-9c06-68b16a8841bc"
      },
      "execution_count": 74,
      "outputs": [
        {
          "output_type": "execute_result",
          "data": {
            "text/plain": [
              "    sc_Close  sc_tweetsNumber  sc_likes  sc_replies  sc_retweets\n",
              "19  0.186916         0.072825  0.036872    0.051361     0.092304\n",
              "20  0.320175         0.161452  0.110917    0.135259     0.153975\n",
              "21  0.156945        -0.003921 -0.106674   -0.064102    -0.026700"
            ],
            "text/html": [
              "\n",
              "  <div id=\"df-44ba7e6f-9459-4dd5-8be3-ed9583311e9a\">\n",
              "    <div class=\"colab-df-container\">\n",
              "      <div>\n",
              "<style scoped>\n",
              "    .dataframe tbody tr th:only-of-type {\n",
              "        vertical-align: middle;\n",
              "    }\n",
              "\n",
              "    .dataframe tbody tr th {\n",
              "        vertical-align: top;\n",
              "    }\n",
              "\n",
              "    .dataframe thead th {\n",
              "        text-align: right;\n",
              "    }\n",
              "</style>\n",
              "<table border=\"1\" class=\"dataframe\">\n",
              "  <thead>\n",
              "    <tr style=\"text-align: right;\">\n",
              "      <th></th>\n",
              "      <th>sc_Close</th>\n",
              "      <th>sc_tweetsNumber</th>\n",
              "      <th>sc_likes</th>\n",
              "      <th>sc_replies</th>\n",
              "      <th>sc_retweets</th>\n",
              "    </tr>\n",
              "  </thead>\n",
              "  <tbody>\n",
              "    <tr>\n",
              "      <th>19</th>\n",
              "      <td>0.186916</td>\n",
              "      <td>0.072825</td>\n",
              "      <td>0.036872</td>\n",
              "      <td>0.051361</td>\n",
              "      <td>0.092304</td>\n",
              "    </tr>\n",
              "    <tr>\n",
              "      <th>20</th>\n",
              "      <td>0.320175</td>\n",
              "      <td>0.161452</td>\n",
              "      <td>0.110917</td>\n",
              "      <td>0.135259</td>\n",
              "      <td>0.153975</td>\n",
              "    </tr>\n",
              "    <tr>\n",
              "      <th>21</th>\n",
              "      <td>0.156945</td>\n",
              "      <td>-0.003921</td>\n",
              "      <td>-0.106674</td>\n",
              "      <td>-0.064102</td>\n",
              "      <td>-0.026700</td>\n",
              "    </tr>\n",
              "  </tbody>\n",
              "</table>\n",
              "</div>\n",
              "      <button class=\"colab-df-convert\" onclick=\"convertToInteractive('df-44ba7e6f-9459-4dd5-8be3-ed9583311e9a')\"\n",
              "              title=\"Convert this dataframe to an interactive table.\"\n",
              "              style=\"display:none;\">\n",
              "        \n",
              "  <svg xmlns=\"http://www.w3.org/2000/svg\" height=\"24px\"viewBox=\"0 0 24 24\"\n",
              "       width=\"24px\">\n",
              "    <path d=\"M0 0h24v24H0V0z\" fill=\"none\"/>\n",
              "    <path d=\"M18.56 5.44l.94 2.06.94-2.06 2.06-.94-2.06-.94-.94-2.06-.94 2.06-2.06.94zm-11 1L8.5 8.5l.94-2.06 2.06-.94-2.06-.94L8.5 2.5l-.94 2.06-2.06.94zm10 10l.94 2.06.94-2.06 2.06-.94-2.06-.94-.94-2.06-.94 2.06-2.06.94z\"/><path d=\"M17.41 7.96l-1.37-1.37c-.4-.4-.92-.59-1.43-.59-.52 0-1.04.2-1.43.59L10.3 9.45l-7.72 7.72c-.78.78-.78 2.05 0 2.83L4 21.41c.39.39.9.59 1.41.59.51 0 1.02-.2 1.41-.59l7.78-7.78 2.81-2.81c.8-.78.8-2.07 0-2.86zM5.41 20L4 18.59l7.72-7.72 1.47 1.35L5.41 20z\"/>\n",
              "  </svg>\n",
              "      </button>\n",
              "      \n",
              "  <style>\n",
              "    .colab-df-container {\n",
              "      display:flex;\n",
              "      flex-wrap:wrap;\n",
              "      gap: 12px;\n",
              "    }\n",
              "\n",
              "    .colab-df-convert {\n",
              "      background-color: #E8F0FE;\n",
              "      border: none;\n",
              "      border-radius: 50%;\n",
              "      cursor: pointer;\n",
              "      display: none;\n",
              "      fill: #1967D2;\n",
              "      height: 32px;\n",
              "      padding: 0 0 0 0;\n",
              "      width: 32px;\n",
              "    }\n",
              "\n",
              "    .colab-df-convert:hover {\n",
              "      background-color: #E2EBFA;\n",
              "      box-shadow: 0px 1px 2px rgba(60, 64, 67, 0.3), 0px 1px 3px 1px rgba(60, 64, 67, 0.15);\n",
              "      fill: #174EA6;\n",
              "    }\n",
              "\n",
              "    [theme=dark] .colab-df-convert {\n",
              "      background-color: #3B4455;\n",
              "      fill: #D2E3FC;\n",
              "    }\n",
              "\n",
              "    [theme=dark] .colab-df-convert:hover {\n",
              "      background-color: #434B5C;\n",
              "      box-shadow: 0px 1px 3px 1px rgba(0, 0, 0, 0.15);\n",
              "      filter: drop-shadow(0px 1px 2px rgba(0, 0, 0, 0.3));\n",
              "      fill: #FFFFFF;\n",
              "    }\n",
              "  </style>\n",
              "\n",
              "      <script>\n",
              "        const buttonEl =\n",
              "          document.querySelector('#df-44ba7e6f-9459-4dd5-8be3-ed9583311e9a button.colab-df-convert');\n",
              "        buttonEl.style.display =\n",
              "          google.colab.kernel.accessAllowed ? 'block' : 'none';\n",
              "\n",
              "        async function convertToInteractive(key) {\n",
              "          const element = document.querySelector('#df-44ba7e6f-9459-4dd5-8be3-ed9583311e9a');\n",
              "          const dataTable =\n",
              "            await google.colab.kernel.invokeFunction('convertToInteractive',\n",
              "                                                     [key], {});\n",
              "          if (!dataTable) return;\n",
              "\n",
              "          const docLinkHtml = 'Like what you see? Visit the ' +\n",
              "            '<a target=\"_blank\" href=https://colab.research.google.com/notebooks/data_table.ipynb>data table notebook</a>'\n",
              "            + ' to learn more about interactive tables.';\n",
              "          element.innerHTML = '';\n",
              "          dataTable['output_type'] = 'display_data';\n",
              "          await google.colab.output.renderOutput(dataTable, element);\n",
              "          const docLink = document.createElement('div');\n",
              "          docLink.innerHTML = docLinkHtml;\n",
              "          element.appendChild(docLink);\n",
              "        }\n",
              "      </script>\n",
              "    </div>\n",
              "  </div>\n",
              "  "
            ]
          },
          "metadata": {},
          "execution_count": 74
        }
      ]
    },
    {
      "cell_type": "code",
      "source": [
        "timestamp = 20 #a series of data points indexed (or listed) in time order and use to predict the next value or values in the sequence\n",
        "length_of_target_sequence = 1\n",
        "\n",
        "X = []\n",
        "Y = []\n",
        "\n",
        "for k in range(len(df_log)-timestamp):\n",
        "  X.append(df_log.iloc[k : k + timestamp, :])\n",
        "  Y.append(df_log.iloc[k + timestamp: k + timestamp + length_of_target_sequence, 0])\n",
        "\n",
        "X = np.array(X)\n",
        "Y = np.array(Y)\n",
        "\n",
        "X = X.reshape((X.shape[0], X.shape[1], X.shape[2]))"
      ],
      "metadata": {
        "id": "RO1m2WDiHwA7"
      },
      "execution_count": 173,
      "outputs": []
    },
    {
      "cell_type": "code",
      "source": [
        "X.shape, Y.shape"
      ],
      "metadata": {
        "colab": {
          "base_uri": "https://localhost:8080/"
        },
        "id": "YjeuP-b3Jb1t",
        "outputId": "15fa6c9a-f10a-475f-f115-5f80587c2b03"
      },
      "execution_count": 174,
      "outputs": [
        {
          "output_type": "execute_result",
          "data": {
            "text/plain": [
              "((548, 20, 5), (548, 1))"
            ]
          },
          "metadata": {},
          "execution_count": 174
        }
      ]
    },
    {
      "cell_type": "code",
      "source": [
        "X_train, X_val = X[:-100], X[-100:]\n",
        "y_train, y_val = Y[:-100], Y[-100:]"
      ],
      "metadata": {
        "id": "eZsmHcV-Jchx"
      },
      "execution_count": 176,
      "outputs": []
    },
    {
      "cell_type": "code",
      "source": [
        "class Modelnn(keras.Model):\n",
        "  def __init__(self, inputShape, num_hidden_layer, num_unit_lstm, **kwargs):\n",
        "    super().__init__(**kwargs)\n",
        "\n",
        "    self.InputShape = inputShape\n",
        "    self.n_hidden_layer = num_hidden_layer\n",
        "\n",
        "    self.BN_layer_input = layers.BatchNormalization(input_shape=self.InputShape)\n",
        "    self.conv_layer = layers.Conv1D(32, 2, padding='same', activation='relu')\n",
        "    self.flatten_layer = layers.Flatten()\n",
        "\n",
        "    self.layers_list = []\n",
        "    for i in range(self.n_hidden_layer):\n",
        "      self.layers_list.append(layers.LSTM(num_unit_lstm, return_sequences=True))\n",
        "      self.layers_list.append(layers.Dropout(0.3))\n",
        "      self.layers_list.append(layers.BatchNormalization())\n",
        "\n",
        "    self.last_lstm = layers.LSTM(128)\n",
        "    self.Dense = layers.Dense(32, activation='relu')\n",
        "    self.Dropout_layer = layers.Dropout(0.3)\n",
        "    self.last_Dense = layers.Dense(1)\n",
        "  \n",
        "  def call(self, inputs):\n",
        "    x = self.BN_layer_input(inputs)\n",
        "    out_conv = self.conv_layer(x)\n",
        "    out_conv = self.flatten_layer(out_conv)\n",
        "\n",
        "    for layer in self.layers_list:\n",
        "      x = layer(x)\n",
        "    \n",
        "    x = self.last_lstm(x)\n",
        "    x = self.Dense(x)\n",
        "\n",
        "    concat_layer = layers.concatenate([x, out_conv])\n",
        "    output_ = self.last_Dense(x)\n",
        "    return output_"
      ],
      "metadata": {
        "id": "_4UeO3JrKi5R"
      },
      "execution_count": 177,
      "outputs": []
    },
    {
      "cell_type": "code",
      "source": [
        "modelnn = Modelnn(X_train.shape[1:], 1, 128)"
      ],
      "metadata": {
        "id": "4p6RMczwLhzB"
      },
      "execution_count": 183,
      "outputs": []
    },
    {
      "cell_type": "code",
      "source": [
        "my_callbacks = [\n",
        "    keras.callbacks.EarlyStopping(patience=10),\n",
        "    keras.callbacks.TensorBoard('/content/logsF'),\n",
        "]\n",
        "\n",
        "opt = keras.optimizers.RMSprop(learning_rate=0.001, decay=1e-6)\n",
        "modelnn.compile(loss='mse', metrics='mae', optimizer=opt)"
      ],
      "metadata": {
        "id": "nYZRk5SkLjhn"
      },
      "execution_count": 185,
      "outputs": []
    },
    {
      "cell_type": "code",
      "source": [
        "history = modelnn.fit(X_train, y_train, batch_size=32, epochs=100,\n",
        "                      shuffle=True, validation_data=(X_val, y_val), callbacks=my_callbacks)"
      ],
      "metadata": {
        "colab": {
          "base_uri": "https://localhost:8080/"
        },
        "id": "IaV5gXKKL24q",
        "outputId": "75af0f91-ed8f-403d-d063-8ccc97bab26b"
      },
      "execution_count": 186,
      "outputs": [
        {
          "output_type": "stream",
          "name": "stdout",
          "text": [
            "Epoch 1/100\n"
          ]
        },
        {
          "output_type": "stream",
          "name": "stderr",
          "text": [
            "WARNING:tensorflow:Gradients do not exist for variables ['modelnn_14/conv1d_11/kernel:0', 'modelnn_14/conv1d_11/bias:0'] when minimizing the loss. If you're using `model.compile()`, did you forget to provide a `loss`argument?\n",
            "WARNING:tensorflow:Gradients do not exist for variables ['modelnn_14/conv1d_11/kernel:0', 'modelnn_14/conv1d_11/bias:0'] when minimizing the loss. If you're using `model.compile()`, did you forget to provide a `loss`argument?\n"
          ]
        },
        {
          "output_type": "stream",
          "name": "stdout",
          "text": [
            "14/14 [==============================] - 6s 166ms/step - loss: 0.1723 - mae: 0.2862 - val_loss: 0.0964 - val_mae: 0.2686\n",
            "Epoch 2/100\n",
            "14/14 [==============================] - 1s 80ms/step - loss: 0.0483 - mae: 0.1722 - val_loss: 0.0986 - val_mae: 0.2730\n",
            "Epoch 3/100\n",
            "14/14 [==============================] - 1s 58ms/step - loss: 0.0511 - mae: 0.1772 - val_loss: 0.0901 - val_mae: 0.2561\n",
            "Epoch 4/100\n",
            "14/14 [==============================] - 1s 52ms/step - loss: 0.0425 - mae: 0.1623 - val_loss: 0.0904 - val_mae: 0.2571\n",
            "Epoch 5/100\n",
            "14/14 [==============================] - 1s 50ms/step - loss: 0.0398 - mae: 0.1545 - val_loss: 0.0937 - val_mae: 0.2594\n",
            "Epoch 6/100\n",
            "14/14 [==============================] - 1s 50ms/step - loss: 0.0400 - mae: 0.1539 - val_loss: 0.0893 - val_mae: 0.2546\n",
            "Epoch 7/100\n",
            "14/14 [==============================] - 1s 51ms/step - loss: 0.0312 - mae: 0.1382 - val_loss: 0.0908 - val_mae: 0.2503\n",
            "Epoch 8/100\n",
            "14/14 [==============================] - 1s 51ms/step - loss: 0.0328 - mae: 0.1398 - val_loss: 0.0869 - val_mae: 0.2490\n",
            "Epoch 9/100\n",
            "14/14 [==============================] - 1s 50ms/step - loss: 0.0300 - mae: 0.1328 - val_loss: 0.0852 - val_mae: 0.2422\n",
            "Epoch 10/100\n",
            "14/14 [==============================] - 1s 49ms/step - loss: 0.0311 - mae: 0.1338 - val_loss: 0.0851 - val_mae: 0.2471\n",
            "Epoch 11/100\n",
            "14/14 [==============================] - 1s 50ms/step - loss: 0.0273 - mae: 0.1293 - val_loss: 0.0878 - val_mae: 0.2476\n",
            "Epoch 12/100\n",
            "14/14 [==============================] - 1s 51ms/step - loss: 0.0282 - mae: 0.1283 - val_loss: 0.0828 - val_mae: 0.2392\n",
            "Epoch 13/100\n",
            "14/14 [==============================] - 1s 51ms/step - loss: 0.0243 - mae: 0.1193 - val_loss: 0.0833 - val_mae: 0.2385\n",
            "Epoch 14/100\n",
            "14/14 [==============================] - 1s 50ms/step - loss: 0.0236 - mae: 0.1166 - val_loss: 0.0870 - val_mae: 0.2408\n",
            "Epoch 15/100\n",
            "14/14 [==============================] - 1s 51ms/step - loss: 0.0209 - mae: 0.1087 - val_loss: 0.0891 - val_mae: 0.2377\n",
            "Epoch 16/100\n",
            "14/14 [==============================] - 1s 50ms/step - loss: 0.0228 - mae: 0.1178 - val_loss: 0.0849 - val_mae: 0.2388\n",
            "Epoch 17/100\n",
            "14/14 [==============================] - 1s 49ms/step - loss: 0.0231 - mae: 0.1159 - val_loss: 0.0766 - val_mae: 0.2265\n",
            "Epoch 18/100\n",
            "14/14 [==============================] - 1s 51ms/step - loss: 0.0203 - mae: 0.1102 - val_loss: 0.0759 - val_mae: 0.2261\n",
            "Epoch 19/100\n",
            "14/14 [==============================] - 1s 50ms/step - loss: 0.0224 - mae: 0.1142 - val_loss: 0.0731 - val_mae: 0.2175\n",
            "Epoch 20/100\n",
            "14/14 [==============================] - 1s 50ms/step - loss: 0.0201 - mae: 0.1091 - val_loss: 0.0740 - val_mae: 0.2216\n",
            "Epoch 21/100\n",
            "14/14 [==============================] - 1s 51ms/step - loss: 0.0217 - mae: 0.1153 - val_loss: 0.0736 - val_mae: 0.2224\n",
            "Epoch 22/100\n",
            "14/14 [==============================] - 1s 49ms/step - loss: 0.0205 - mae: 0.1090 - val_loss: 0.0708 - val_mae: 0.2107\n",
            "Epoch 23/100\n",
            "14/14 [==============================] - 1s 51ms/step - loss: 0.0188 - mae: 0.1051 - val_loss: 0.0714 - val_mae: 0.2145\n",
            "Epoch 24/100\n",
            "14/14 [==============================] - 1s 50ms/step - loss: 0.0190 - mae: 0.1025 - val_loss: 0.0629 - val_mae: 0.2032\n",
            "Epoch 25/100\n",
            "14/14 [==============================] - 1s 50ms/step - loss: 0.0186 - mae: 0.1030 - val_loss: 0.0670 - val_mae: 0.2014\n",
            "Epoch 26/100\n",
            "14/14 [==============================] - 1s 51ms/step - loss: 0.0176 - mae: 0.1027 - val_loss: 0.0670 - val_mae: 0.2106\n",
            "Epoch 27/100\n",
            "14/14 [==============================] - 1s 53ms/step - loss: 0.0210 - mae: 0.1082 - val_loss: 0.0597 - val_mae: 0.1931\n",
            "Epoch 28/100\n",
            "14/14 [==============================] - 1s 49ms/step - loss: 0.0167 - mae: 0.0979 - val_loss: 0.0616 - val_mae: 0.1901\n",
            "Epoch 29/100\n",
            "14/14 [==============================] - 1s 49ms/step - loss: 0.0192 - mae: 0.1068 - val_loss: 0.0580 - val_mae: 0.1944\n",
            "Epoch 30/100\n",
            "14/14 [==============================] - 1s 52ms/step - loss: 0.0166 - mae: 0.0993 - val_loss: 0.0534 - val_mae: 0.1728\n",
            "Epoch 31/100\n",
            "14/14 [==============================] - 1s 52ms/step - loss: 0.0185 - mae: 0.1010 - val_loss: 0.0570 - val_mae: 0.1785\n",
            "Epoch 32/100\n",
            "14/14 [==============================] - 1s 50ms/step - loss: 0.0150 - mae: 0.0922 - val_loss: 0.0786 - val_mae: 0.2131\n",
            "Epoch 33/100\n",
            "14/14 [==============================] - 1s 51ms/step - loss: 0.0159 - mae: 0.0975 - val_loss: 0.0517 - val_mae: 0.1732\n",
            "Epoch 34/100\n",
            "14/14 [==============================] - 1s 52ms/step - loss: 0.0166 - mae: 0.0970 - val_loss: 0.0553 - val_mae: 0.1786\n",
            "Epoch 35/100\n",
            "14/14 [==============================] - 1s 50ms/step - loss: 0.0178 - mae: 0.1035 - val_loss: 0.0566 - val_mae: 0.1784\n",
            "Epoch 36/100\n",
            "14/14 [==============================] - 1s 48ms/step - loss: 0.0147 - mae: 0.0936 - val_loss: 0.0625 - val_mae: 0.1874\n",
            "Epoch 37/100\n",
            "14/14 [==============================] - 1s 52ms/step - loss: 0.0158 - mae: 0.0948 - val_loss: 0.0683 - val_mae: 0.1903\n",
            "Epoch 38/100\n",
            "14/14 [==============================] - 1s 53ms/step - loss: 0.0148 - mae: 0.0923 - val_loss: 0.0613 - val_mae: 0.1891\n",
            "Epoch 39/100\n",
            "14/14 [==============================] - 1s 50ms/step - loss: 0.0171 - mae: 0.0953 - val_loss: 0.0661 - val_mae: 0.1936\n",
            "Epoch 40/100\n",
            "14/14 [==============================] - 1s 51ms/step - loss: 0.0150 - mae: 0.0924 - val_loss: 0.0630 - val_mae: 0.1872\n",
            "Epoch 41/100\n",
            "14/14 [==============================] - 1s 50ms/step - loss: 0.0145 - mae: 0.0914 - val_loss: 0.0663 - val_mae: 0.1861\n",
            "Epoch 42/100\n",
            "14/14 [==============================] - 1s 52ms/step - loss: 0.0148 - mae: 0.0908 - val_loss: 0.0456 - val_mae: 0.1524\n",
            "Epoch 43/100\n",
            "14/14 [==============================] - 1s 52ms/step - loss: 0.0141 - mae: 0.0888 - val_loss: 0.0625 - val_mae: 0.1831\n",
            "Epoch 44/100\n",
            "14/14 [==============================] - 1s 52ms/step - loss: 0.0156 - mae: 0.0926 - val_loss: 0.0725 - val_mae: 0.1956\n",
            "Epoch 45/100\n",
            "14/14 [==============================] - 1s 51ms/step - loss: 0.0130 - mae: 0.0855 - val_loss: 0.0715 - val_mae: 0.1946\n",
            "Epoch 46/100\n",
            "14/14 [==============================] - 1s 50ms/step - loss: 0.0136 - mae: 0.0870 - val_loss: 0.0743 - val_mae: 0.2039\n",
            "Epoch 47/100\n",
            "14/14 [==============================] - 1s 51ms/step - loss: 0.0135 - mae: 0.0869 - val_loss: 0.0739 - val_mae: 0.1978\n",
            "Epoch 48/100\n",
            "14/14 [==============================] - 1s 50ms/step - loss: 0.0144 - mae: 0.0898 - val_loss: 0.0705 - val_mae: 0.2022\n",
            "Epoch 49/100\n",
            "14/14 [==============================] - 1s 51ms/step - loss: 0.0136 - mae: 0.0884 - val_loss: 0.0708 - val_mae: 0.1930\n",
            "Epoch 50/100\n",
            "14/14 [==============================] - 1s 51ms/step - loss: 0.0147 - mae: 0.0912 - val_loss: 0.0742 - val_mae: 0.2100\n",
            "Epoch 51/100\n",
            "14/14 [==============================] - 1s 51ms/step - loss: 0.0123 - mae: 0.0852 - val_loss: 0.0747 - val_mae: 0.2044\n",
            "Epoch 52/100\n",
            "14/14 [==============================] - 1s 50ms/step - loss: 0.0144 - mae: 0.0925 - val_loss: 0.0702 - val_mae: 0.1928\n"
          ]
        }
      ]
    },
    {
      "cell_type": "code",
      "source": [
        "%load_ext tensorboard\n",
        "%tensorboard --logdir=/content/logsF"
      ],
      "metadata": {
        "id": "dawPYSiNPYy2"
      },
      "execution_count": null,
      "outputs": []
    },
    {
      "cell_type": "code",
      "source": [
        "y_train_pred = modelnn.predict(X_train)\n",
        "y_val_pred = modelnn.predict(X_val)"
      ],
      "metadata": {
        "id": "goiemQLiL8I6"
      },
      "execution_count": 187,
      "outputs": []
    },
    {
      "cell_type": "code",
      "source": [
        "plt.figure(figsize=(14,6))\n",
        "plt.plot(np.arange(len(X)-100), y_train, label=\"train\")\n",
        "plt.plot(np.arange(len(X)-100, len(X)), y_val, label=\"val\")\n",
        "plt.plot(np.arange(len(X)-100), y_train_pred, label=\"Predicted train\")\n",
        "plt.plot(np.arange(len(X)-100, len(X)), y_val_pred, label=\"Predicted val\")\n",
        "plt.legend(loc='upper right')\n",
        "plt.show()"
      ],
      "metadata": {
        "colab": {
          "base_uri": "https://localhost:8080/",
          "height": 401
        },
        "id": "ftoHd7TqPXQS",
        "outputId": "51ccaa0a-463a-441f-f216-431af2b6525f"
      },
      "execution_count": 188,
      "outputs": [
        {
          "output_type": "display_data",
          "data": {
            "text/plain": [
              "<Figure size 1008x432 with 1 Axes>"
            ],
            "image/png": "[encoded data removed]"
          },
          "metadata": {}
        }
      ]
    },
    {
      "cell_type": "code",
      "source": [],
      "metadata": {
        "id": "JnQsvfu7Raqg"
      },
      "execution_count": null,
      "outputs": []
    }
  ]
}