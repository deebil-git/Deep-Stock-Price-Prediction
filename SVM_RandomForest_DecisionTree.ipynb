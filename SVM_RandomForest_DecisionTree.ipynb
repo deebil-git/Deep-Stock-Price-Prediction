{
  "nbformat": 4,
  "nbformat_minor": 0,
  "metadata": {
    "colab": {
      "provenance": [],
      "collapsed_sections": []
    },
    "kernelspec": {
      "name": "python3",
      "display_name": "Python 3"
    },
    "language_info": {
      "name": "python"
    }
  },
  "cells": [
    {
      "cell_type": "code",
      "execution_count": null,
      "metadata": {
        "id": "HKasHm_Z1cGh"
      },
      "outputs": [],
      "source": [
        "!pip install yfinance"
      ]
    },
    {
      "cell_type": "code",
      "source": [
        "import pandas as pd\n",
        "import numpy as np\n",
        "import yfinance\n",
        "import matplotlib.pyplot as plt\n",
        "import seaborn as sns\n",
        "sns.set()\n",
        "\n",
        "from sklearn import tree\n",
        "from sklearn.svm import SVC\n",
        "from sklearn.preprocessing import StandardScaler\n",
        "from sklearn.model_selection import train_test_split\n",
        "from sklearn.metrics import accuracy_score, f1_score\n",
        "from sklearn.ensemble import RandomForestRegressor"
      ],
      "metadata": {
        "id": "JUfNknCs1c4z"
      },
      "execution_count": 1004,
      "outputs": []
    },
    {
      "cell_type": "code",
      "source": [
        "close = yfinance.download('BTC-USD', period='700d', interval='1h')[['Close']]"
      ],
      "metadata": {
        "id": "prr95Wvc1hvL"
      },
      "execution_count": null,
      "outputs": []
    },
    {
      "cell_type": "markdown",
      "source": [
        "The pct_change() method returns a DataFrame with the percentage difference between the values for each row and, by default, the previous row"
      ],
      "metadata": {
        "id": "iKLW12PlQzVB"
      }
    },
    {
      "cell_type": "code",
      "source": [
        "returns = close.pct_change().values"
      ],
      "metadata": {
        "id": "12M3B-NwQjST"
      },
      "execution_count": 969,
      "outputs": []
    },
    {
      "cell_type": "code",
      "source": [
        "df_log = pd.DataFrame(returns, columns=['Returns'])"
      ],
      "metadata": {
        "id": "MJiqPgLc6eKb"
      },
      "execution_count": 970,
      "outputs": []
    },
    {
      "cell_type": "markdown",
      "source": [
        "I predict the direction of returns"
      ],
      "metadata": {
        "id": "NRIPRUOUTr6n"
      }
    },
    {
      "cell_type": "code",
      "source": [
        "df_log['target'] = np.where(df_log.iloc[:, 0:1].diff(-1).values <= 0, 1, 0)"
      ],
      "metadata": {
        "id": "Kx3tzgCH1nD8"
      },
      "execution_count": 971,
      "outputs": []
    },
    {
      "cell_type": "code",
      "source": [
        "df_log.head(4)"
      ],
      "metadata": {
        "colab": {
          "base_uri": "https://localhost:8080/",
          "height": 175
        },
        "id": "PrwjxZgzAMSD",
        "outputId": "7bafef20-a8ef-41fc-cc52-de7fe0983211"
      },
      "execution_count": 975,
      "outputs": [
        {
          "output_type": "execute_result",
          "data": {
            "text/plain": [
              "    Returns  target\n",
              "0       NaN       0\n",
              "1 -0.001702       1\n",
              "2  0.001115       0\n",
              "3 -0.000010       1"
            ],
            "text/html": [
              "\n",
              "  <div id=\"df-46f4e4c2-cbee-41f9-b479-8867bb7cd508\">\n",
              "    <div class=\"colab-df-container\">\n",
              "      <div>\n",
              "<style scoped>\n",
              "    .dataframe tbody tr th:only-of-type {\n",
              "        vertical-align: middle;\n",
              "    }\n",
              "\n",
              "    .dataframe tbody tr th {\n",
              "        vertical-align: top;\n",
              "    }\n",
              "\n",
              "    .dataframe thead th {\n",
              "        text-align: right;\n",
              "    }\n",
              "</style>\n",
              "<table border=\"1\" class=\"dataframe\">\n",
              "  <thead>\n",
              "    <tr style=\"text-align: right;\">\n",
              "      <th></th>\n",
              "      <th>Returns</th>\n",
              "      <th>target</th>\n",
              "    </tr>\n",
              "  </thead>\n",
              "  <tbody>\n",
              "    <tr>\n",
              "      <th>0</th>\n",
              "      <td>NaN</td>\n",
              "      <td>0</td>\n",
              "    </tr>\n",
              "    <tr>\n",
              "      <th>1</th>\n",
              "      <td>-0.001702</td>\n",
              "      <td>1</td>\n",
              "    </tr>\n",
              "    <tr>\n",
              "      <th>2</th>\n",
              "      <td>0.001115</td>\n",
              "      <td>0</td>\n",
              "    </tr>\n",
              "    <tr>\n",
              "      <th>3</th>\n",
              "      <td>-0.000010</td>\n",
              "      <td>1</td>\n",
              "    </tr>\n",
              "  </tbody>\n",
              "</table>\n",
              "</div>\n",
              "      <button class=\"colab-df-convert\" onclick=\"convertToInteractive('df-46f4e4c2-cbee-41f9-b479-8867bb7cd508')\"\n",
              "              title=\"Convert this dataframe to an interactive table.\"\n",
              "              style=\"display:none;\">\n",
              "        \n",
              "  <svg xmlns=\"http://www.w3.org/2000/svg\" height=\"24px\"viewBox=\"0 0 24 24\"\n",
              "       width=\"24px\">\n",
              "    <path d=\"M0 0h24v24H0V0z\" fill=\"none\"/>\n",
              "    <path d=\"M18.56 5.44l.94 2.06.94-2.06 2.06-.94-2.06-.94-.94-2.06-.94 2.06-2.06.94zm-11 1L8.5 8.5l.94-2.06 2.06-.94-2.06-.94L8.5 2.5l-.94 2.06-2.06.94zm10 10l.94 2.06.94-2.06 2.06-.94-2.06-.94-.94-2.06-.94 2.06-2.06.94z\"/><path d=\"M17.41 7.96l-1.37-1.37c-.4-.4-.92-.59-1.43-.59-.52 0-1.04.2-1.43.59L10.3 9.45l-7.72 7.72c-.78.78-.78 2.05 0 2.83L4 21.41c.39.39.9.59 1.41.59.51 0 1.02-.2 1.41-.59l7.78-7.78 2.81-2.81c.8-.78.8-2.07 0-2.86zM5.41 20L4 18.59l7.72-7.72 1.47 1.35L5.41 20z\"/>\n",
              "  </svg>\n",
              "      </button>\n",
              "      \n",
              "  <style>\n",
              "    .colab-df-container {\n",
              "      display:flex;\n",
              "      flex-wrap:wrap;\n",
              "      gap: 12px;\n",
              "    }\n",
              "\n",
              "    .colab-df-convert {\n",
              "      background-color: #E8F0FE;\n",
              "      border: none;\n",
              "      border-radius: 50%;\n",
              "      cursor: pointer;\n",
              "      display: none;\n",
              "      fill: #1967D2;\n",
              "      height: 32px;\n",
              "      padding: 0 0 0 0;\n",
              "      width: 32px;\n",
              "    }\n",
              "\n",
              "    .colab-df-convert:hover {\n",
              "      background-color: #E2EBFA;\n",
              "      box-shadow: 0px 1px 2px rgba(60, 64, 67, 0.3), 0px 1px 3px 1px rgba(60, 64, 67, 0.15);\n",
              "      fill: #174EA6;\n",
              "    }\n",
              "\n",
              "    [theme=dark] .colab-df-convert {\n",
              "      background-color: #3B4455;\n",
              "      fill: #D2E3FC;\n",
              "    }\n",
              "\n",
              "    [theme=dark] .colab-df-convert:hover {\n",
              "      background-color: #434B5C;\n",
              "      box-shadow: 0px 1px 3px 1px rgba(0, 0, 0, 0.15);\n",
              "      filter: drop-shadow(0px 1px 2px rgba(0, 0, 0, 0.3));\n",
              "      fill: #FFFFFF;\n",
              "    }\n",
              "  </style>\n",
              "\n",
              "      <script>\n",
              "        const buttonEl =\n",
              "          document.querySelector('#df-46f4e4c2-cbee-41f9-b479-8867bb7cd508 button.colab-df-convert');\n",
              "        buttonEl.style.display =\n",
              "          google.colab.kernel.accessAllowed ? 'block' : 'none';\n",
              "\n",
              "        async function convertToInteractive(key) {\n",
              "          const element = document.querySelector('#df-46f4e4c2-cbee-41f9-b479-8867bb7cd508');\n",
              "          const dataTable =\n",
              "            await google.colab.kernel.invokeFunction('convertToInteractive',\n",
              "                                                     [key], {});\n",
              "          if (!dataTable) return;\n",
              "\n",
              "          const docLinkHtml = 'Like what you see? Visit the ' +\n",
              "            '<a target=\"_blank\" href=https://colab.research.google.com/notebooks/data_table.ipynb>data table notebook</a>'\n",
              "            + ' to learn more about interactive tables.';\n",
              "          element.innerHTML = '';\n",
              "          dataTable['output_type'] = 'display_data';\n",
              "          await google.colab.output.renderOutput(dataTable, element);\n",
              "          const docLink = document.createElement('div');\n",
              "          docLink.innerHTML = docLinkHtml;\n",
              "          element.appendChild(docLink);\n",
              "        }\n",
              "      </script>\n",
              "    </div>\n",
              "  </div>\n",
              "  "
            ]
          },
          "metadata": {},
          "execution_count": 975
        }
      ]
    },
    {
      "cell_type": "code",
      "source": [
        "df_log = df_log.dropna()"
      ],
      "metadata": {
        "id": "Ceo9suno21zC"
      },
      "execution_count": 976,
      "outputs": []
    },
    {
      "cell_type": "code",
      "source": [
        "timestamp = 20 # I classify a 20-dimensional space into two classes\n",
        "\n",
        "X = []\n",
        "Y = []\n",
        "\n",
        "for k in range(len(df_log)-timestamp):\n",
        "  X.append(df_log.iloc[k : k + timestamp, 0])\n",
        "  Y.append(df_log.iloc[k + timestamp -1, 1])\n",
        "\n",
        "X = np.array(X)\n",
        "Y = np.array(Y)"
      ],
      "metadata": {
        "id": "tqvRlbBW1oUy"
      },
      "execution_count": 1016,
      "outputs": []
    },
    {
      "cell_type": "code",
      "source": [
        "X_train, X_test, y_train, y_test = train_test_split(X, Y, test_size=0.15)"
      ],
      "metadata": {
        "id": "Bng1kfUP1qLd"
      },
      "execution_count": 1017,
      "outputs": []
    },
    {
      "cell_type": "code",
      "source": [
        "sc = StandardScaler()\n",
        "X_train = sc.fit_transform(X_train)\n",
        "X_test = sc.transform(X_test)"
      ],
      "metadata": {
        "id": "Cd-qailOTJAY"
      },
      "execution_count": 1018,
      "outputs": []
    },
    {
      "cell_type": "code",
      "source": [
        "plt.plot(X_train[0])"
      ],
      "metadata": {
        "colab": {
          "base_uri": "https://localhost:8080/",
          "height": 286
        },
        "id": "XqAW1ZUo1sPK",
        "outputId": "c4444ba9-91d2-4b46-cd6d-a94452bb12b7"
      },
      "execution_count": 1037,
      "outputs": [
        {
          "output_type": "execute_result",
          "data": {
            "text/plain": [
              "[<matplotlib.lines.Line2D at 0x7f19e74d5d10>]"
            ]
          },
          "metadata": {},
          "execution_count": 1037
        },
        {
          "output_type": "display_data",
          "data": {
            "text/plain": [
              "<Figure size 432x288 with 1 Axes>"
            ],
            "image/png": "[encoded data removed]"
          },
          "metadata": {}
        }
      ]
    },
    {
      "cell_type": "markdown",
      "source": [
        "##SVM Model"
      ],
      "metadata": {
        "id": "vpU-NCleUkKo"
      }
    },
    {
      "cell_type": "code",
      "source": [
        "svm_model = SVC(kernel='rbf', C=1.0, gamma=0.0004) #Support Vector Classifier"
      ],
      "metadata": {
        "id": "PIJuP2zc2hqX"
      },
      "execution_count": 1020,
      "outputs": []
    },
    {
      "cell_type": "code",
      "source": [
        "svm_model = svm_model.fit(X_train, y_train)"
      ],
      "metadata": {
        "id": "UJHkAeLw2l8z"
      },
      "execution_count": 1021,
      "outputs": []
    },
    {
      "cell_type": "code",
      "source": [
        "y_pred = svm_model.predict(X_test)"
      ],
      "metadata": {
        "id": "OvQQ6bge2zxw"
      },
      "execution_count": 1022,
      "outputs": []
    },
    {
      "cell_type": "code",
      "source": [
        "acc = accuracy_score(y_test, y_pred)\n",
        "f1_s = f1_score(y_test, y_pred)"
      ],
      "metadata": {
        "id": "hkfEsopd3AGo"
      },
      "execution_count": 1023,
      "outputs": []
    },
    {
      "cell_type": "code",
      "source": [
        "print(f\"accuracy score: {acc}\")\n",
        "print(f\"f1 score: {f1_s}\")"
      ],
      "metadata": {
        "colab": {
          "base_uri": "https://localhost:8080/"
        },
        "id": "v9aeWnJ3S3M7",
        "outputId": "d9a11641-2e92-426c-9498-0db6d447efdc"
      },
      "execution_count": 1024,
      "outputs": [
        {
          "output_type": "stream",
          "name": "stdout",
          "text": [
            "accuracy score: 0.748587570621469\n",
            "f1 score: 0.7287766652154986\n"
          ]
        }
      ]
    },
    {
      "cell_type": "markdown",
      "source": [
        "##Random Forest"
      ],
      "metadata": {
        "id": "fLG5AOmwVywh"
      }
    },
    {
      "cell_type": "code",
      "source": [
        " RandomF_model = RandomForestRegressor(n_estimators=20, random_state=0)"
      ],
      "metadata": {
        "id": "TBK809atV6wy"
      },
      "execution_count": 1025,
      "outputs": []
    },
    {
      "cell_type": "code",
      "source": [
        "RandomF_model = RandomF_model.fit(X_train, y_train)"
      ],
      "metadata": {
        "id": "WURUEbhXWGFY"
      },
      "execution_count": 1026,
      "outputs": []
    },
    {
      "cell_type": "code",
      "source": [
        "y_pred = RandomF_model.predict(X_test)"
      ],
      "metadata": {
        "id": "82K67dD8WLhS"
      },
      "execution_count": 1027,
      "outputs": []
    },
    {
      "cell_type": "code",
      "source": [
        "y_pred = np.where(y_pred >= 0.5, 1, 0)"
      ],
      "metadata": {
        "id": "Xd99llLlWPqh"
      },
      "execution_count": 1028,
      "outputs": []
    },
    {
      "cell_type": "code",
      "source": [
        "acc = accuracy_score(y_test, y_pred)\n",
        "f1_s = f1_score(y_test, y_pred)"
      ],
      "metadata": {
        "id": "KIrZ1Np8WYTS"
      },
      "execution_count": 1029,
      "outputs": []
    },
    {
      "cell_type": "code",
      "source": [
        "print(f\"accuracy score: {acc}\")\n",
        "print(f\"f1 score: {f1_s}\")"
      ],
      "metadata": {
        "colab": {
          "base_uri": "https://localhost:8080/"
        },
        "id": "15iL0GiQWaBZ",
        "outputId": "ecb6a65a-edc6-4d7e-fda8-b79f88e23a43"
      },
      "execution_count": 1030,
      "outputs": [
        {
          "output_type": "stream",
          "name": "stdout",
          "text": [
            "accuracy score: 0.7263922518159807\n",
            "f1 score: 0.7212171052631579\n"
          ]
        }
      ]
    },
    {
      "cell_type": "markdown",
      "source": [
        "##Decision Tree"
      ],
      "metadata": {
        "id": "EuG0GsY-UqMY"
      }
    },
    {
      "cell_type": "code",
      "source": [
        "tree_model = tree.DecisionTreeClassifier()"
      ],
      "metadata": {
        "id": "j-dEvSmZVUUz"
      },
      "execution_count": 1031,
      "outputs": []
    },
    {
      "cell_type": "code",
      "source": [
        "tree_model = tree_model.fit(X_train, y_train)"
      ],
      "metadata": {
        "id": "zYyw_KzUVZlN"
      },
      "execution_count": 1032,
      "outputs": []
    },
    {
      "cell_type": "code",
      "source": [
        "y_pred = tree_model.predict(X_test)"
      ],
      "metadata": {
        "id": "Bedg7o2VVb1a"
      },
      "execution_count": 1033,
      "outputs": []
    },
    {
      "cell_type": "code",
      "source": [
        "acc = accuracy_score(y_test, y_pred)\n",
        "f1_s = f1_score(y_test, y_pred)"
      ],
      "metadata": {
        "id": "s8d6QygiVr1w"
      },
      "execution_count": 1034,
      "outputs": []
    },
    {
      "cell_type": "code",
      "source": [
        "print(f\"accuracy score: {acc}\")\n",
        "print(f\"f1 score: {f1_s}\")"
      ],
      "metadata": {
        "colab": {
          "base_uri": "https://localhost:8080/"
        },
        "id": "6b0jjW_BVtaw",
        "outputId": "60ffdcd1-61ee-4173-e2c4-adba73c394fb"
      },
      "execution_count": 1035,
      "outputs": [
        {
          "output_type": "stream",
          "name": "stdout",
          "text": [
            "accuracy score: 0.655367231638418\n",
            "f1 score: 0.6459369817578773\n"
          ]
        }
      ]
    }
  ]
}